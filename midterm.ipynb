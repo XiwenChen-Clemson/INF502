{
 "cells": [
  {
   "cell_type": "markdown",
   "metadata": {},
   "source": [
    "# Midterm Exercises\n",
    "## Members:\n",
    "- Xiwen Chen\n",
    "- Ai Zhang\n",
    "- Yifei Zhang"
   ]
  },
  {
   "cell_type": "markdown",
   "metadata": {},
   "source": [
    "## Quick Access to Test\n",
    "- 1a `DigitsReversed()`\n",
    "- 1b `SumSeries()`\n",
    "- 2a `HorizontalBarGraph()`\n",
    "- 3a `ListRotate(List)`\n",
    "- 3b `RepeatedElement(List)`\n",
    "- 3c `BothAppearedElements(ListA,ListB)`\n",
    "- 4b `Ex4b(Countries)`, where,\n",
    "`countries = {\n",
    "  'USA':{\n",
    "    'population': 328000000,\n",
    "    'first language': 'English',\n",
    "    'continent': 'North America',\n",
    "  }\n",
    "}`\n",
    "- 5a `LineDelete()`\n",
    "- 6b `CSVcolumnsDelete()`\n",
    "- 7 `CSVtoObjects()`\n",
    "\n",
    "**Noting**: Some test files of 4b, 6b, and 7 are in the folder [MidtermFiles](https://github.com/XiwenChen-NAU/INF502/tree/master/MidtermFiles)"
   ]
  },
  {
   "cell_type": "markdown",
   "metadata": {},
   "source": [
    "## 1. our choices are a and b"
   ]
  },
  {
   "cell_type": "markdown",
   "metadata": {},
   "source": [
    "### 1.a: Write a program that asks the user to type an integer and outputs the number with the digits reversed. \n",
    "- The input should be an integer, meaning the exception can be the input `ValueError`. \n",
    "- An integer would be classified as negative (with minus sign `-`) or non-negative. We fist need to judge the input, and convert the digits( type:`int`) to `str`.\n",
    "- Process the string to a list, then do reverse operation by change the index.\n",
    "- Finally, convert to int and add its original sign (if applicable)"
   ]
  },
  {
   "cell_type": "code",
   "execution_count": null,
   "metadata": {},
   "outputs": [],
   "source": [
    "def DigitsReversed():\n",
    "    while 1:\n",
    "        try:\n",
    "            NumberInput = int(input(\"Please input an integer to reverse:\"))\n",
    "        except ValueError:\n",
    "            print(\"Your input is not valied. Please input an integer.\\n\")\n",
    "        else:\n",
    "            break\n",
    "    # Obtain digits        \n",
    "    if NumberInput>=0:\n",
    "        DigitsList=list()\n",
    "        Digits = str(NumberInput)\n",
    "        for Element in Digits:\n",
    "            DigitsList.append(Element)\n",
    "        Sign = ''\n",
    "    else:\n",
    "        DigitsList=list()\n",
    "        DigitsTemp = str(NumberInput)\n",
    "        Digits = DigitsTemp[1:]\n",
    "        for Element in Digits:\n",
    "            DigitsList.append(Element)\n",
    "        Sign = '-'\n",
    "    # Reverse\n",
    "    ReversedDigits = list()\n",
    "    for i in range(len(Digits)):\n",
    "        ReversedDigits.append(Digits[-i-1]) \n",
    "    \n",
    "    return int(Sign + ''.join(ReversedDigits))\n",
    "    \n",
    "            \n",
    "    "
   ]
  },
  {
   "cell_type": "markdown",
   "metadata": {},
   "source": [
    "#### Test"
   ]
  },
  {
   "cell_type": "code",
   "execution_count": null,
   "metadata": {},
   "outputs": [],
   "source": [
    " DigitsReversed()\n",
    "    "
   ]
  },
  {
   "cell_type": "code",
   "execution_count": null,
   "metadata": {},
   "outputs": [],
   "source": [
    " DigitsReversed()"
   ]
  },
  {
   "cell_type": "markdown",
   "metadata": {},
   "source": [
    "### 1.b: Write a program to calculate the following series, given the `n` input by the user.\n",
    "- The input should be a positive integer. The exception is `ValueError`. A non-positive value will still `raise` the `ValueError` by our maunally setting.\n",
    "- Deploy a loop to sum each 1/n (from 1 to 1/N)"
   ]
  },
  {
   "cell_type": "code",
   "execution_count": null,
   "metadata": {},
   "outputs": [],
   "source": [
    "def SumSeries():\n",
    "    while 1:\n",
    "        try:\n",
    "            N = int(input(\"Please input the *N*:\"))\n",
    "            if N<=0:\n",
    "                raise ValueError            \n",
    "        except ValueError:\n",
    "            print(\"Your input is not valied. Please input anon-positive integer.\\n\")\n",
    "        else:\n",
    "            break\n",
    "    sumation = 0\n",
    "    for i in range(N):\n",
    "        sumation += 1/(i+1)\n",
    "        \n",
    "    return sumation"
   ]
  },
  {
   "cell_type": "markdown",
   "metadata": {},
   "source": [
    "#### Test"
   ]
  },
  {
   "cell_type": "code",
   "execution_count": null,
   "metadata": {},
   "outputs": [],
   "source": [
    "SumSeries()"
   ]
  },
  {
   "cell_type": "code",
   "execution_count": null,
   "metadata": {},
   "outputs": [],
   "source": [
    "SumSeries()"
   ]
  },
  {
   "cell_type": "markdown",
   "metadata": {},
   "source": [
    "## 2. Choose one of the following (10%) – LOOPS 2"
   ]
  },
  {
   "cell_type": "markdown",
   "metadata": {},
   "source": [
    "### 2.a: Ask the user to enter 5 integer values between 1 and 20. Create a horizontal bar graph, using “*” to represent the value.  \n",
    "- The input should be a positive integer varying from 1 to 20. The exception is `ValueError`. Any value exceed this range will still `raise` the `ValueError`.\n",
    "- Each row should print *. We can use `\" \".join()` to split each char by a space. Then print `\\n` at the end of each row.\n",
    "\n"
   ]
  },
  {
   "cell_type": "code",
   "execution_count": null,
   "metadata": {},
   "outputs": [],
   "source": [
    "def HorizontalBarGraph():\n",
    "    while 1:\n",
    "        try:\n",
    "            flag = 0\n",
    "            Row1 = int(input(\"please input your number of the 1st row:\"))\n",
    "            Row2 = int(input(\"please input your number of the 2nd row:\"))\n",
    "            Row3 = int(input(\"please input your number of the 3rd row:\"))\n",
    "            Row4 = int(input(\"please input your number of the 4th row:\"))\n",
    "            Row5 = int(input(\"please input your number of the 5th row:\"))\n",
    "            if Row1 in range(1,21) and Row2 in range(1,21) and Row3 in range(1,21) and Row4 in range(1,21) and Row5 in range(1,21):\n",
    "                flag = 0\n",
    "            else:\n",
    "                raise ValueError\n",
    "        except ValueError:\n",
    "            print(\"**Some of your inputs are not valied. Please a positive integer varying from 1 to 20**\\n\")\n",
    "        else:\n",
    "            RowList= [Row1,Row2,Row3,Row4,Row5]\n",
    "            break\n",
    "            \n",
    "    StrRow1 = list()\n",
    "    for i in range(Row1):\n",
    "        StrRow1.append('*')\n",
    "    StrRow1 = \" \".join(StrRow1)+'\\n'\n",
    "    \n",
    "    StrRow2 = list()\n",
    "    for i in range(Row2):\n",
    "        StrRow2.append('*')\n",
    "    StrRow2 = \" \".join(StrRow2)+'\\n'\n",
    "    \n",
    "    StrRow3 = list()\n",
    "    for i in range(Row3):\n",
    "        StrRow3.append('*')\n",
    "    StrRow3 = \" \".join(StrRow3)+'\\n'\n",
    "    \n",
    "    StrRow4 = list()\n",
    "    for i in range(Row4):\n",
    "        StrRow4.append('*')\n",
    "    StrRow4 = \" \".join(StrRow4)+'\\n'\n",
    "    \n",
    "    StrRow5 = list()\n",
    "    for i in range(Row5):\n",
    "        StrRow5.append('*')\n",
    "    StrRow5 = \" \".join(StrRow5)+'\\n'\n",
    "    \n",
    "    print(StrRow1+StrRow2+StrRow3+StrRow4+StrRow5)\n",
    "        \n",
    "            \n",
    "    \n",
    "    "
   ]
  },
  {
   "cell_type": "code",
   "execution_count": null,
   "metadata": {},
   "outputs": [],
   "source": [
    "HorizontalBarGraph()"
   ]
  },
  {
   "cell_type": "markdown",
   "metadata": {},
   "source": [
    "## 3. Pick three of these (24% - 8% each) - LISTS\n",
    "### 3.a: Write a function that rotates a list by k elements.\n",
    "- The exception is ValueError caused by `k` is not integer. And negative `k` will still `raise` the exception\n",
    "- We also want a big `k` to rotate list period by period then by a few bits, so we apply `k = k%len(List)`\n",
    "- Initial `RotatedList` as output. Append the list by the corresponding element from the input list. The relation is: \n",
    "`Output[i]<->Input[-k+i]`, where `k` is processed by step 2."
   ]
  },
  {
   "cell_type": "code",
   "execution_count": 9,
   "metadata": {},
   "outputs": [],
   "source": [
    "def ListRotate(List):\n",
    "    while 1:\n",
    "        try:\n",
    "            k = int(input(\"Please input the number you want to rotate:\"))\n",
    "            k = k%len(List)\n",
    "            if k <0:\n",
    "                raise ValueError\n",
    "        except ValueError:\n",
    "            print(\"**Please print a non-negative integer**\\n\")\n",
    "        else:\n",
    "            break\n",
    "            \n",
    "    RotatedList =list()\n",
    "    for i in range(len(List)):\n",
    "        RotatedList.append(List[-k+i])\n",
    "    \n",
    "    return RotatedList\n",
    "    "
   ]
  },
  {
   "cell_type": "code",
   "execution_count": 11,
   "metadata": {},
   "outputs": [
    {
     "name": "stdout",
     "output_type": "stream",
     "text": [
      "Please input the number you want to rotate:31\n"
     ]
    },
    {
     "data": {
      "text/plain": [
       "[2, 3, 4, 5, 6, 7, 8, 1]"
      ]
     },
     "execution_count": 11,
     "metadata": {},
     "output_type": "execute_result"
    }
   ],
   "source": [
    "a =[1,2,3,4,5,6,7,8]\n",
    "ListRotate(a)"
   ]
  },
  {
   "cell_type": "markdown",
   "metadata": {},
   "source": [
    "### 3.b: Write a function that, given a list, print all the elements that are repeated.\n",
    "- First use `set()` to collect the set of the list. After `set()`, every elemetn is non-repeated.\n",
    "- For each elemnet from `SetList`, we traverse the input list, and return indexes for every element if the element is equal to current element from `SetList`. If the length of `index` is bigger than 1, we can say current element is reapted."
   ]
  },
  {
   "cell_type": "code",
   "execution_count": 21,
   "metadata": {},
   "outputs": [],
   "source": [
    "def RepeatedElement(List):\n",
    "    SetList = list(set(List))\n",
    "    RepeatedElementList = list()\n",
    "    for Element in SetList:\n",
    "        index = [i for i,j in enumerate(List) if j==Element]\n",
    "        if len(index)>1:\n",
    "            RepeatedElementList.append(Element)\n",
    "    return RepeatedElementList"
   ]
  },
  {
   "cell_type": "markdown",
   "metadata": {},
   "source": [
    "### 3.c: Write an algorithm that, given 2 lists containing integers only, present what are the values that appear in both of them.\n",
    "\n",
    "- The exception is `ValueError` here.\n",
    "- We can traverse the first list. Then for each element of the first list, compare it with each element of the second list, and use a list to record all reapted elements.\n",
    "- Remove extra repeated elements from the record lost by `list(set())`"
   ]
  },
  {
   "cell_type": "code",
   "execution_count": 23,
   "metadata": {},
   "outputs": [],
   "source": [
    "def BothAppearedElements(ListA,ListB):\n",
    "    try:\n",
    "        for Element in ListA:\n",
    "            int(Element)\n",
    "        for Element in ListB:\n",
    "            int(Element)\n",
    "    except ValueError:\n",
    "        print(\"*Your lists should contain integers only. Please input again\\n*\")\n",
    "    else:\n",
    "        BothElementsList=list()\n",
    "        for Element in ListA:\n",
    "            if Element in ListB:\n",
    "                BothElementsList.append(Element)\n",
    "        BothElementsList = list(set(BothElementsList))\n",
    "        return BothElementsList\n",
    "            \n",
    "    "
   ]
  },
  {
   "cell_type": "code",
   "execution_count": 24,
   "metadata": {},
   "outputs": [
    {
     "data": {
      "text/plain": [
       "[1, 3, 5, 6]"
      ]
     },
     "execution_count": 24,
     "metadata": {},
     "output_type": "execute_result"
    }
   ],
   "source": [
    "ListA = [1,2,3,4,5,6,6,7]\n",
    "ListB = [22,1,3,44,5,6]\n",
    "BothAppearedElements(ListA,ListB)"
   ]
  },
  {
   "cell_type": "markdown",
   "metadata": {},
   "source": [
    "## 4. Pick 1 of the following (15%) – DICTIONARIES\n",
    "### 4.b: Given the dictionary below, create a program with the following 3 functions:\n",
    "- add a new country to the dictionary; \n",
    "- add a new key to the ALL entries called ‘currency’ and all of them with “N/A\"\n",
    "- find the country with the largest population\n",
    "\n",
    "**Solution:**\n",
    "- Function 1: The exception is `ValueError` caused by incorrected inputs. Then we create a subdict `Detail=dict()` to colloct the deatail of the new contry. Then use `dict().update()` to add `Name` (as key) and `Detail`(as value) to the main dict `Countries`.\n",
    "- Function 2: We traverse each subdict (which is each country), the use `dict().update()` to add `currency` and `N/A`\n",
    "- Fucntion 3: We create two list record the country name and its population, respectively. Country name is the key of main dict, and  population is the key of the `population` in subdict (e.g.`Countries[\"USA\"]`). Then use `list.index()` to find the largeset country index."
   ]
  },
  {
   "cell_type": "code",
   "execution_count": 60,
   "metadata": {},
   "outputs": [],
   "source": [
    "def AddNewCountry(Countries):\n",
    "    while 1:\n",
    "        try:\n",
    "            Name = str(input(\"Please input a new contry name:\"))\n",
    "            Population = int(input(\"Please input the population of the contry:\"))\n",
    "            FirstLanguage =str(input(\"Please input first language of the contry:\"))\n",
    "            Continent = str(input(\"Please input the continent  of the contry:\"))\n",
    "        except ValueError:\n",
    "            print(\"**Please check your inputs**\")\n",
    "        else:\n",
    "            break\n",
    "            \n",
    "    Detail=dict()\n",
    "    Detail['population']=Population\n",
    "    Detail['first language']= FirstLanguage\n",
    "    Detail['continent'] = Continent\n",
    "    \n",
    "    Countries.update({Name:Detail})\n",
    "    return Countries"
   ]
  },
  {
   "cell_type": "code",
   "execution_count": 71,
   "metadata": {},
   "outputs": [],
   "source": [
    "def AddCurrency(Countries):\n",
    "    for Country in list(Countries.keys()):\n",
    "        Countries[str(Country)].update({'currency':'N/A'})\n",
    "    return Countries"
   ]
  },
  {
   "cell_type": "code",
   "execution_count": 93,
   "metadata": {},
   "outputs": [],
   "source": [
    "def LargestPopulation(Countries):\n",
    "    CountryName = list()\n",
    "    CountryPopu = list()\n",
    "    for Country in list(Countries.keys()):\n",
    "        CountryName.append(str(Country))\n",
    "        Detail = Countries[str(Country)]\n",
    "        CountryPopu.append(Detail[\"population\"])\n",
    "    return CountryName[CountryPopu.index(max(CountryPopu))]\n"
   ]
  },
  {
   "cell_type": "code",
   "execution_count": 63,
   "metadata": {},
   "outputs": [],
   "source": [
    "def Ex4b(Countries):\n",
    "    while 1:\n",
    "        while 1:\n",
    "            print(\"Please choose your options:\\n \\\n",
    "    Option 1: add a new country to the dictionary, using the same structure\\n \\\n",
    "    Option 2: add a new key to the ALL entries called ‘currency’ and all of them with N/A\\n \\\n",
    "    Option 3: find the country with the largest population\\n \\\n",
    "    Option 4: Exit\\n Your option is:\")\n",
    "            try:\n",
    "                Option = int(input(\"Please input your option:\"))\n",
    "                if Option<1 or Option>4:\n",
    "                    raise ValueError\n",
    "            except ValueError:\n",
    "                print(\"*Your input is not valied. Plz input 1,2,3 or 4*\\n\")\n",
    "            else:\n",
    "                break\n",
    "        if Option == 1:\n",
    "            AddNewCountry(Countries)        \n",
    "        elif Option == 2:\n",
    "            AddCurrency(Countries)\n",
    "        elif Option == 3:\n",
    "            LargestPopulation(Countries)\n",
    "        elif Option == 4:\n",
    "            return\n",
    "    \n",
    "            "
   ]
  },
  {
   "cell_type": "markdown",
   "metadata": {},
   "source": [
    "#### Test"
   ]
  },
  {
   "cell_type": "code",
   "execution_count": 72,
   "metadata": {},
   "outputs": [
    {
     "name": "stdout",
     "output_type": "stream",
     "text": [
      "Please choose your options:\n",
      "     Option 1: add a new country to the dictionary, using the same structure\n",
      "     Option 2: add a new key to the ALL entries called ‘currency’ and all of them with N/A\n",
      "     Option 3: find the country with the largest population\n",
      "     Option 4: Exit\n",
      " Your option is:\n",
      "Please input your option:1\n",
      "Please input a new contry name:china\n",
      "Please input the population of the contry:1400000000\n",
      "Please input first language of the contry:Chinese\n",
      "Please input the continent  of the contry:Asia\n",
      "Please choose your options:\n",
      "     Option 1: add a new country to the dictionary, using the same structure\n",
      "     Option 2: add a new key to the ALL entries called ‘currency’ and all of them with N/A\n",
      "     Option 3: find the country with the largest population\n",
      "     Option 4: Exit\n",
      " Your option is:\n",
      "Please input your option:4\n"
     ]
    }
   ],
   "source": [
    "countries = {\n",
    "  'USA':{\n",
    "    'population': 328000000,\n",
    "    'first language': 'English',\n",
    "    'continent': 'North America',\n",
    "  }\n",
    "}\n",
    "Ex4b(countries)"
   ]
  },
  {
   "cell_type": "code",
   "execution_count": 73,
   "metadata": {},
   "outputs": [
    {
     "data": {
      "text/plain": [
       "{'USA': {'population': 328000000,\n",
       "  'first language': 'English',\n",
       "  'continent': 'North America'},\n",
       " 'china': {'population': 1400000000,\n",
       "  'first language': 'Chinese',\n",
       "  'continent': 'Asia'}}"
      ]
     },
     "execution_count": 73,
     "metadata": {},
     "output_type": "execute_result"
    }
   ],
   "source": [
    "countries"
   ]
  },
  {
   "cell_type": "code",
   "execution_count": 57,
   "metadata": {},
   "outputs": [
    {
     "ename": "NameError",
     "evalue": "name 'Ex4b' is not defined",
     "output_type": "error",
     "traceback": [
      "\u001b[1;31m---------------------------------------------------------------------------\u001b[0m",
      "\u001b[1;31mNameError\u001b[0m                                 Traceback (most recent call last)",
      "\u001b[1;32m<ipython-input-57-dacf4a32dc74>\u001b[0m in \u001b[0;36m<module>\u001b[1;34m\u001b[0m\n\u001b[1;32m----> 1\u001b[1;33m \u001b[0mEx4b\u001b[0m\u001b[1;33m(\u001b[0m\u001b[0mcountries\u001b[0m\u001b[1;33m)\u001b[0m\u001b[1;33m\u001b[0m\u001b[1;33m\u001b[0m\u001b[0m\n\u001b[0m",
      "\u001b[1;31mNameError\u001b[0m: name 'Ex4b' is not defined"
     ]
    }
   ],
   "source": [
    "Ex4b(countries)"
   ]
  },
  {
   "cell_type": "markdown",
   "metadata": {},
   "source": [
    "## 5. Pick 1 of the following (8%) – FILES\n",
    "### 5.a: Write a program to delete a specific line (input by the users) from a file.\n",
    "- First, use `r` mode to check the file exist or not (directly use `w` will create a new file if not existed). The exception is `FileNotFoundError`. `r.readlines()` read the text and store in a list.\n",
    "- Then input `k`(int and >0, otherwise `raise` ValueError) and use `w` mode. `w` mode will rewrite the file, and we just write line by line except the line we want to delete. Here each line is a element of the previous list."
   ]
  },
  {
   "cell_type": "code",
   "execution_count": 32,
   "metadata": {},
   "outputs": [],
   "source": [
    "def LineDelete():\n",
    "    while 1:\n",
    "        try:\n",
    "            filename = str(input(\"Please input your filename:\"))\n",
    "            r = open(filename,'r') # Check file existed\n",
    "            Lines = r.readlines()\n",
    "            r.close()\n",
    "            \n",
    "            \n",
    "        except FileNotFoundError:\n",
    "            print(\"**Your file not existed, plz input again**\\n\")\n",
    "        else:\n",
    "            while 1:\n",
    "                try:\n",
    "                    k = int(input(\"Choose Kth row to delete\"))\n",
    "                    if k<0 or k>len(Lines):\n",
    "                        raise ValueError\n",
    "                except ValueError:\n",
    "                    print(\"**You input k is not valied or over range, plz input again**\\n\")\n",
    "                else:\n",
    "                    f = open(filename,'w')\n",
    "                    for Line in Lines:\n",
    "                        if Line != Lines[k-1]:\n",
    "                            f.write(Line)\n",
    "                    f.close()\n",
    "                    break\n",
    "            break\n"
   ]
  },
  {
   "cell_type": "markdown",
   "metadata": {},
   "source": [
    "#### test"
   ]
  },
  {
   "cell_type": "code",
   "execution_count": 41,
   "metadata": {},
   "outputs": [
    {
     "name": "stdout",
     "output_type": "stream",
     "text": [
      "Please input your filename:4b.txt\n",
      "['line1\\n', 'line2\\n', 'line3\\n', 'line4\\n', 'line5\\n', 'line6\\n', 'line7\\n', 'line8\\n']\n"
     ]
    }
   ],
   "source": [
    "filename = str(input(\"Please input your filename:\"))\n",
    "r = open(filename,'r')\n",
    "Lines = r.readlines()\n",
    "r.close()\n",
    "print(Lines)\n"
   ]
  },
  {
   "cell_type": "code",
   "execution_count": 42,
   "metadata": {
    "scrolled": true
   },
   "outputs": [
    {
     "name": "stdout",
     "output_type": "stream",
     "text": [
      "Please input your filename:2\n",
      "**Your file not existed, plz input again**\n",
      "\n",
      "Please input your filename:4b.txt\n",
      "Choose Kth row to delete2\n"
     ]
    }
   ],
   "source": [
    "LineDelete()\n"
   ]
  },
  {
   "cell_type": "code",
   "execution_count": 43,
   "metadata": {},
   "outputs": [
    {
     "name": "stdout",
     "output_type": "stream",
     "text": [
      "Please input your filename:4b.txt\n",
      "['line1\\n', 'line3\\n', 'line4\\n', 'line5\\n', 'line6\\n', 'line7\\n', 'line8\\n']\n"
     ]
    }
   ],
   "source": [
    "filename = str(input(\"Please input your filename:\"))\n",
    "r = open(filename,'r')\n",
    "Lines = r.readlines()\n",
    "r.close()\n",
    "print(Lines)"
   ]
  },
  {
   "cell_type": "markdown",
   "metadata": {},
   "source": [
    "## 6. Pick 1 of the following (10%) – FILES2\n",
    "### 6b:\n",
    "- Here we use `panda` module. `pandas.read_csv` can read .csv file as dataframe. Here the exception is FileNotFoundError.\n",
    "- `df.column` returns the name of each column\n",
    "- `df.drop`(`axis=1`) to drop the colum you want from the dataframe"
   ]
  },
  {
   "cell_type": "code",
   "execution_count": 37,
   "metadata": {},
   "outputs": [],
   "source": [
    "import pandas as pd\n",
    "\n",
    "def CSVcolumnsDelete():\n",
    "    while 1:\n",
    "        try:\n",
    "            Filename = str(input(\"Please input your filename:\"))\n",
    "            df = pd.read_csv(Filename)\n",
    "            \n",
    "            \n",
    "        except FileNotFoundError:\n",
    "            print(\"**Your csv file is not existed. plz input again**\\n\")\n",
    "        else:\n",
    "            break\n",
    "    ColumnsName = list(df.columns)\n",
    "    df=df.drop([ColumnsName[0],ColumnsName[-1]],axis=1)\n",
    "    \n",
    "    return df\n",
    "    "
   ]
  },
  {
   "cell_type": "markdown",
   "metadata": {},
   "source": [
    "#### Test"
   ]
  },
  {
   "cell_type": "code",
   "execution_count": 47,
   "metadata": {},
   "outputs": [
    {
     "data": {
      "text/html": [
       "<div>\n",
       "<style scoped>\n",
       "    .dataframe tbody tr th:only-of-type {\n",
       "        vertical-align: middle;\n",
       "    }\n",
       "\n",
       "    .dataframe tbody tr th {\n",
       "        vertical-align: top;\n",
       "    }\n",
       "\n",
       "    .dataframe thead th {\n",
       "        text-align: right;\n",
       "    }\n",
       "</style>\n",
       "<table border=\"1\" class=\"dataframe\">\n",
       "  <thead>\n",
       "    <tr style=\"text-align: right;\">\n",
       "      <th></th>\n",
       "      <th>name</th>\n",
       "      <th>address</th>\n",
       "      <th>phone</th>\n",
       "      <th>dob</th>\n",
       "    </tr>\n",
       "  </thead>\n",
       "  <tbody>\n",
       "    <tr>\n",
       "      <td>0</td>\n",
       "      <td>Peter</td>\n",
       "      <td>17 Cherry Tree lane</td>\n",
       "      <td>555-222-1111</td>\n",
       "      <td>Oct-12-1830</td>\n",
       "    </tr>\n",
       "    <tr>\n",
       "      <td>1</td>\n",
       "      <td>Jenny</td>\n",
       "      <td>123 Slumber St.</td>\n",
       "      <td>555-102-9283</td>\n",
       "      <td>Sept-9-1845</td>\n",
       "    </tr>\n",
       "    <tr>\n",
       "      <td>2</td>\n",
       "      <td>Dante</td>\n",
       "      <td>60 Araucaria Drive</td>\n",
       "      <td>322-456-2020</td>\n",
       "      <td>Mar-15-1811</td>\n",
       "    </tr>\n",
       "  </tbody>\n",
       "</table>\n",
       "</div>"
      ],
      "text/plain": [
       "    name               address          phone           dob\n",
       "0  Peter   17 Cherry Tree lane   555-222-1111   Oct-12-1830\n",
       "1  Jenny       123 Slumber St.   555-102-9283   Sept-9-1845\n",
       "2  Dante    60 Araucaria Drive   322-456-2020   Mar-15-1811"
      ]
     },
     "execution_count": 47,
     "metadata": {},
     "output_type": "execute_result"
    }
   ],
   "source": [
    "Filename =\"6b.csv\"\n",
    "df = pd.read_csv(Filename)\n",
    "df"
   ]
  },
  {
   "cell_type": "code",
   "execution_count": 48,
   "metadata": {},
   "outputs": [
    {
     "name": "stdout",
     "output_type": "stream",
     "text": [
      "Please input your filename:6b.txt\n",
      "**Your csv file is not existed. plz input again**\n",
      "\n",
      "Please input your filename:6b.csv\n"
     ]
    },
    {
     "data": {
      "text/html": [
       "<div>\n",
       "<style scoped>\n",
       "    .dataframe tbody tr th:only-of-type {\n",
       "        vertical-align: middle;\n",
       "    }\n",
       "\n",
       "    .dataframe tbody tr th {\n",
       "        vertical-align: top;\n",
       "    }\n",
       "\n",
       "    .dataframe thead th {\n",
       "        text-align: right;\n",
       "    }\n",
       "</style>\n",
       "<table border=\"1\" class=\"dataframe\">\n",
       "  <thead>\n",
       "    <tr style=\"text-align: right;\">\n",
       "      <th></th>\n",
       "      <th>address</th>\n",
       "      <th>phone</th>\n",
       "    </tr>\n",
       "  </thead>\n",
       "  <tbody>\n",
       "    <tr>\n",
       "      <td>0</td>\n",
       "      <td>17 Cherry Tree lane</td>\n",
       "      <td>555-222-1111</td>\n",
       "    </tr>\n",
       "    <tr>\n",
       "      <td>1</td>\n",
       "      <td>123 Slumber St.</td>\n",
       "      <td>555-102-9283</td>\n",
       "    </tr>\n",
       "    <tr>\n",
       "      <td>2</td>\n",
       "      <td>60 Araucaria Drive</td>\n",
       "      <td>322-456-2020</td>\n",
       "    </tr>\n",
       "  </tbody>\n",
       "</table>\n",
       "</div>"
      ],
      "text/plain": [
       "                address          phone\n",
       "0   17 Cherry Tree lane   555-222-1111\n",
       "1       123 Slumber St.   555-102-9283\n",
       "2    60 Araucaria Drive   322-456-2020"
      ]
     },
     "execution_count": 48,
     "metadata": {},
     "output_type": "execute_result"
    }
   ],
   "source": [
    "CSVcolumnsDelete()"
   ]
  },
  {
   "cell_type": "markdown",
   "metadata": {},
   "source": [
    "## 7. Mandatory exercise (13%):\n",
    "- The key is obtain the properties and their corresponding value of the object from csv file. We want to feed `header`(properties) and `row`(corresponding value) to `__init__(self,)`. To quick initialize each property, we use `dict(zip(header, row))`, which can create a dict and set property as the key, value as its coressponding value. Then we define `__init__(self,)` by define its `self.__dict__` with the previous dict `dict(zip(header, row))`.\n",
    "- Constructor method to set its property can be easily implemented by:\n",
    "`def SetProperty(self,Property):\n",
    "    self.Property=Property`\n",
    "-  Here we use `csv` module, which is easier to obtain value of each row than `pandas` module since it can store data as a list such as`[row0,row1,...]`. The header is `row0`, and we traverse the reamining rows as value. Then we can get a list of class instances.\n"
   ]
  },
  {
   "cell_type": "code",
   "execution_count": 52,
   "metadata": {},
   "outputs": [],
   "source": [
    "import pandas as pd\n",
    "import csv\n",
    "class Species:\n",
    "    def __init__(self,header,row):\n",
    "         self.__dict__ = dict(zip(header, row))\n",
    "    def SetSpeciescode(self,Speciescode):\n",
    "        self.speciescode = Speciescode\n",
    "    def SetGenus(self,Genus):\n",
    "        self.genus = Genus\n",
    "    def SetAltgenus(self,Altspecies):\n",
    "        self.altgenus =Altgenus\n",
    "    def SetSpecies(self,Species):\n",
    "        self.species =Species\n",
    "    def SetTribe(self,Tribe):\n",
    "        self.tribe =Tribe\n",
    "    def SetAltspecies(self,Altspecies):\n",
    "        self.altspecies =Altspecies\n",
    "    def SetSubfamily(self,Subfamily):\n",
    "        self.subfamily =Subfamily\n",
    "    def SetIDissues(self,IDissues):\n",
    "        self.IDissues =IDissues\n",
    "    def __str__(self):\n",
    "        return \" \".join([self.genus,self.species])            \n",
    "\n",
    "        \n",
    "        \n",
    "def CSVtoObjects():\n",
    "    while 1:\n",
    "        try:\n",
    "            Filename = str(input(\"Please input your filename:\"))\n",
    "            data = list(csv.reader(open(Filename)))\n",
    "            \n",
    "            \n",
    "        except FileNotFoundError:\n",
    "            print(\"**Your csv file is not existed. plz input again**\\n\")\n",
    "        else:\n",
    "            break\n",
    "            \n",
    "    Instances = [Species(data[0],i) for i in data[1:]]\n",
    "    return Instances;\n"
   ]
  },
  {
   "cell_type": "markdown",
   "metadata": {},
   "source": [
    "#### Test"
   ]
  },
  {
   "cell_type": "code",
   "execution_count": 54,
   "metadata": {},
   "outputs": [
    {
     "name": "stdout",
     "output_type": "stream",
     "text": [
      "Please input your filename:ant_species.csv\n"
     ]
    }
   ],
   "source": [
    "Instances=CSVtoObjects()"
   ]
  },
  {
   "cell_type": "code",
   "execution_count": 55,
   "metadata": {},
   "outputs": [
    {
     "name": "stdout",
     "output_type": "stream",
     "text": [
      "Camponotus festinatus\n"
     ]
    }
   ],
   "source": [
    "print(Instances[0])"
   ]
  },
  {
   "cell_type": "code",
   "execution_count": 56,
   "metadata": {},
   "outputs": [],
   "source": [
    "Instances[0].SetIDissues(\"INF502 Mid\")"
   ]
  }
 ],
 "metadata": {
  "kernelspec": {
   "display_name": "Python 3",
   "language": "python",
   "name": "python3"
  },
  "language_info": {
   "codemirror_mode": {
    "name": "ipython",
    "version": 3
   },
   "file_extension": ".py",
   "mimetype": "text/x-python",
   "name": "python",
   "nbconvert_exporter": "python",
   "pygments_lexer": "ipython3",
   "version": "3.7.4"
  }
 },
 "nbformat": 4,
 "nbformat_minor": 2
}
