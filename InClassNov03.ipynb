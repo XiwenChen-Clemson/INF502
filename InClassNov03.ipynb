{
 "cells": [
  {
   "cell_type": "markdown",
   "metadata": {},
   "source": [
    "## Members: Xiwen Chen, Yifei Zhang, Ai Zhang"
   ]
  },
  {
   "cell_type": "code",
   "execution_count": 12,
   "metadata": {},
   "outputs": [],
   "source": [
    "import requests\n",
    "from bs4 import BeautifulSoup\n",
    "import pandas as pd\n",
    "from pandas import Series,DataFrame"
   ]
  },
  {
   "cell_type": "markdown",
   "metadata": {},
   "source": [
    "### Reuqest the page"
   ]
  },
  {
   "cell_type": "code",
   "execution_count": 13,
   "metadata": {},
   "outputs": [],
   "source": [
    "result = requests.get(\"https://en.wikipedia.org/wiki/List_of_countries_and_dependencies_by_population_density\")\n",
    "\n"
   ]
  },
  {
   "cell_type": "markdown",
   "metadata": {},
   "source": [
    "### Scrap HTML"
   ]
  },
  {
   "cell_type": "code",
   "execution_count": 14,
   "metadata": {
    "scrolled": true
   },
   "outputs": [],
   "source": [
    "content = result.content\n",
    "soup=BeautifulSoup(content, \"html.parser\")\n"
   ]
  },
  {
   "cell_type": "code",
   "execution_count": 15,
   "metadata": {
    "scrolled": true
   },
   "outputs": [
    {
     "data": {
      "text/plain": [
       "'List of countries and dependencies by population density - Wikipedia'"
      ]
     },
     "execution_count": 15,
     "metadata": {},
     "output_type": "execute_result"
    }
   ],
   "source": [
    "soup.title.string"
   ]
  },
  {
   "cell_type": "markdown",
   "metadata": {},
   "source": [
    "### Find the table, and get the required information\n",
    "- `strip()`and `replace(',','')` to modify the `str` that can be convert to flaot or int \n",
    "- Use diffenret lists to store the information of each column\n",
    "- Skip Country name containing `world`"
   ]
  },
  {
   "cell_type": "code",
   "execution_count": 16,
   "metadata": {
    "scrolled": true
   },
   "outputs": [],
   "source": [
    "tables = soup.find('table', class_= 'sortable')\n",
    "trs = tables.find_all('tr')\n",
    "Countries = []\n",
    "Km2s = []\n",
    "mi2s = []\n",
    "Populations = []\n",
    "\n",
    "for i in range(len(trs)): \n",
    "    tr = trs[i]\n",
    "    if i != 0 and i != 1 and i != len(trs) and i != len(trs)-1 and i != len(trs)-2:\n",
    "        cells = tr.find_all('th')\n",
    "        if not cells:\n",
    "            cells=tr.find_all('td')\n",
    "        Country = cells[1].get_text().strip()\n",
    "        Km2 = cells[2].get_text().strip().replace(',','')\n",
    "        mi2 = cells[3].get_text().strip().replace(',','')\n",
    "        Population = cells[4].get_text().strip().replace(',','')\n",
    "        if 'World' not in Country:\n",
    "            Countries.append(Country)\n",
    "            Km2s.append(float(Km2))\n",
    "            mi2s.append(float(mi2))\n",
    "            Populations.append(int(Population))\n",
    "        #for cell in cells:\n",
    "         #   print(cell.get_text(),end='|')\n"
   ]
  },
  {
   "cell_type": "markdown",
   "metadata": {},
   "source": [
    "### Use pandas to generate dataframe"
   ]
  },
  {
   "cell_type": "code",
   "execution_count": 17,
   "metadata": {
    "scrolled": false
   },
   "outputs": [
    {
     "data": {
      "text/html": [
       "<div>\n",
       "<style scoped>\n",
       "    .dataframe tbody tr th:only-of-type {\n",
       "        vertical-align: middle;\n",
       "    }\n",
       "\n",
       "    .dataframe tbody tr th {\n",
       "        vertical-align: top;\n",
       "    }\n",
       "\n",
       "    .dataframe thead th {\n",
       "        text-align: right;\n",
       "    }\n",
       "</style>\n",
       "<table border=\"1\" class=\"dataframe\">\n",
       "  <thead>\n",
       "    <tr style=\"text-align: right;\">\n",
       "      <th></th>\n",
       "      <th>Country</th>\n",
       "      <th>Area (km2)</th>\n",
       "      <th>Area (mi2)</th>\n",
       "      <th>Population</th>\n",
       "    </tr>\n",
       "  </thead>\n",
       "  <tbody>\n",
       "    <tr>\n",
       "      <td>0</td>\n",
       "      <td>Macau (China)</td>\n",
       "      <td>115.30</td>\n",
       "      <td>45.00</td>\n",
       "      <td>696100</td>\n",
       "    </tr>\n",
       "    <tr>\n",
       "      <td>1</td>\n",
       "      <td>Monaco</td>\n",
       "      <td>2.02</td>\n",
       "      <td>0.78</td>\n",
       "      <td>38300</td>\n",
       "    </tr>\n",
       "    <tr>\n",
       "      <td>2</td>\n",
       "      <td>Singapore</td>\n",
       "      <td>722.50</td>\n",
       "      <td>279.00</td>\n",
       "      <td>5703600</td>\n",
       "    </tr>\n",
       "    <tr>\n",
       "      <td>3</td>\n",
       "      <td>Hong Kong (China)</td>\n",
       "      <td>1106.00</td>\n",
       "      <td>427.00</td>\n",
       "      <td>7500700</td>\n",
       "    </tr>\n",
       "    <tr>\n",
       "      <td>4</td>\n",
       "      <td>Gibraltar (United Kingdom)</td>\n",
       "      <td>6.80</td>\n",
       "      <td>2.60</td>\n",
       "      <td>33701</td>\n",
       "    </tr>\n",
       "    <tr>\n",
       "      <td>...</td>\n",
       "      <td>...</td>\n",
       "      <td>...</td>\n",
       "      <td>...</td>\n",
       "      <td>...</td>\n",
       "    </tr>\n",
       "    <tr>\n",
       "      <td>246</td>\n",
       "      <td>Mongolia</td>\n",
       "      <td>1564100.00</td>\n",
       "      <td>603902.00</td>\n",
       "      <td>3238479</td>\n",
       "    </tr>\n",
       "    <tr>\n",
       "      <td>247</td>\n",
       "      <td>Pitcairn Islands (United Kingdom)</td>\n",
       "      <td>47.30</td>\n",
       "      <td>18.00</td>\n",
       "      <td>56</td>\n",
       "    </tr>\n",
       "    <tr>\n",
       "      <td>248</td>\n",
       "      <td>Falkland Islands (United Kingdom)</td>\n",
       "      <td>12173.00</td>\n",
       "      <td>4700.00</td>\n",
       "      <td>2563</td>\n",
       "    </tr>\n",
       "    <tr>\n",
       "      <td>249</td>\n",
       "      <td>Svalbard and Jan Mayen (Norway)</td>\n",
       "      <td>61399.00</td>\n",
       "      <td>23706.00</td>\n",
       "      <td>2655</td>\n",
       "    </tr>\n",
       "    <tr>\n",
       "      <td>250</td>\n",
       "      <td>Greenland (Denmark)</td>\n",
       "      <td>2166000.00</td>\n",
       "      <td>836297.00</td>\n",
       "      <td>55877</td>\n",
       "    </tr>\n",
       "  </tbody>\n",
       "</table>\n",
       "<p>251 rows × 4 columns</p>\n",
       "</div>"
      ],
      "text/plain": [
       "                               Country  Area (km2)  Area (mi2)  Population\n",
       "0                        Macau (China)      115.30       45.00      696100\n",
       "1                               Monaco        2.02        0.78       38300\n",
       "2                            Singapore      722.50      279.00     5703600\n",
       "3                    Hong Kong (China)     1106.00      427.00     7500700\n",
       "4           Gibraltar (United Kingdom)        6.80        2.60       33701\n",
       "..                                 ...         ...         ...         ...\n",
       "246                           Mongolia  1564100.00   603902.00     3238479\n",
       "247  Pitcairn Islands (United Kingdom)       47.30       18.00          56\n",
       "248  Falkland Islands (United Kingdom)    12173.00     4700.00        2563\n",
       "249    Svalbard and Jan Mayen (Norway)    61399.00    23706.00        2655\n",
       "250                Greenland (Denmark)  2166000.00   836297.00       55877\n",
       "\n",
       "[251 rows x 4 columns]"
      ]
     },
     "execution_count": 17,
     "metadata": {},
     "output_type": "execute_result"
    }
   ],
   "source": [
    "data = {'Country':Countries,'Area (km2)':Km2s,'Area (mi2)':mi2s,'Population':Populations}\n",
    "df = DataFrame(data)\n",
    "df"
   ]
  },
  {
   "cell_type": "code",
   "execution_count": 18,
   "metadata": {},
   "outputs": [
    {
     "data": {
      "text/plain": [
       "pandas.core.frame.DataFrame"
      ]
     },
     "execution_count": 18,
     "metadata": {},
     "output_type": "execute_result"
    }
   ],
   "source": [
    "type(df)"
   ]
  },
  {
   "cell_type": "markdown",
   "metadata": {},
   "source": [
    "### Summary"
   ]
  },
  {
   "cell_type": "code",
   "execution_count": 19,
   "metadata": {},
   "outputs": [
    {
     "name": "stdout",
     "output_type": "stream",
     "text": [
      "<class 'pandas.core.frame.DataFrame'>\n",
      "RangeIndex: 251 entries, 0 to 250\n",
      "Data columns (total 4 columns):\n",
      "Country       251 non-null object\n",
      "Area (km2)    251 non-null float64\n",
      "Area (mi2)    251 non-null float64\n",
      "Population    251 non-null int64\n",
      "dtypes: float64(2), int64(1), object(1)\n",
      "memory usage: 8.0+ KB\n"
     ]
    }
   ],
   "source": [
    "df.info()"
   ]
  },
  {
   "cell_type": "code",
   "execution_count": 20,
   "metadata": {},
   "outputs": [
    {
     "data": {
      "text/html": [
       "<div>\n",
       "<style scoped>\n",
       "    .dataframe tbody tr th:only-of-type {\n",
       "        vertical-align: middle;\n",
       "    }\n",
       "\n",
       "    .dataframe tbody tr th {\n",
       "        vertical-align: top;\n",
       "    }\n",
       "\n",
       "    .dataframe thead th {\n",
       "        text-align: right;\n",
       "    }\n",
       "</style>\n",
       "<table border=\"1\" class=\"dataframe\">\n",
       "  <thead>\n",
       "    <tr style=\"text-align: right;\">\n",
       "      <th></th>\n",
       "      <th>Country</th>\n",
       "      <th>Area (km2)</th>\n",
       "      <th>Area (mi2)</th>\n",
       "      <th>Population</th>\n",
       "    </tr>\n",
       "  </thead>\n",
       "  <tbody>\n",
       "    <tr>\n",
       "      <td>count</td>\n",
       "      <td>251</td>\n",
       "      <td>2.510000e+02</td>\n",
       "      <td>2.510000e+02</td>\n",
       "      <td>2.510000e+02</td>\n",
       "    </tr>\n",
       "    <tr>\n",
       "      <td>unique</td>\n",
       "      <td>251</td>\n",
       "      <td>NaN</td>\n",
       "      <td>NaN</td>\n",
       "      <td>NaN</td>\n",
       "    </tr>\n",
       "    <tr>\n",
       "      <td>top</td>\n",
       "      <td>Dominica</td>\n",
       "      <td>NaN</td>\n",
       "      <td>NaN</td>\n",
       "      <td>NaN</td>\n",
       "    </tr>\n",
       "    <tr>\n",
       "      <td>freq</td>\n",
       "      <td>1</td>\n",
       "      <td>NaN</td>\n",
       "      <td>NaN</td>\n",
       "      <td>NaN</td>\n",
       "    </tr>\n",
       "    <tr>\n",
       "      <td>mean</td>\n",
       "      <td>NaN</td>\n",
       "      <td>5.432938e+05</td>\n",
       "      <td>2.097769e+05</td>\n",
       "      <td>3.047293e+07</td>\n",
       "    </tr>\n",
       "    <tr>\n",
       "      <td>std</td>\n",
       "      <td>NaN</td>\n",
       "      <td>1.716009e+06</td>\n",
       "      <td>6.625517e+05</td>\n",
       "      <td>1.283047e+08</td>\n",
       "    </tr>\n",
       "    <tr>\n",
       "      <td>min</td>\n",
       "      <td>NaN</td>\n",
       "      <td>4.900000e-01</td>\n",
       "      <td>1.900000e-01</td>\n",
       "      <td>5.600000e+01</td>\n",
       "    </tr>\n",
       "    <tr>\n",
       "      <td>25%</td>\n",
       "      <td>NaN</td>\n",
       "      <td>1.590200e+03</td>\n",
       "      <td>6.740000e+02</td>\n",
       "      <td>2.638290e+05</td>\n",
       "    </tr>\n",
       "    <tr>\n",
       "      <td>50%</td>\n",
       "      <td>NaN</td>\n",
       "      <td>6.456200e+04</td>\n",
       "      <td>2.492800e+04</td>\n",
       "      <td>4.475353e+06</td>\n",
       "    </tr>\n",
       "    <tr>\n",
       "      <td>75%</td>\n",
       "      <td>NaN</td>\n",
       "      <td>3.495840e+05</td>\n",
       "      <td>1.349750e+05</td>\n",
       "      <td>1.764158e+07</td>\n",
       "    </tr>\n",
       "    <tr>\n",
       "      <td>max</td>\n",
       "      <td>NaN</td>\n",
       "      <td>1.712524e+07</td>\n",
       "      <td>6.612093e+06</td>\n",
       "      <td>1.405181e+09</td>\n",
       "    </tr>\n",
       "  </tbody>\n",
       "</table>\n",
       "</div>"
      ],
      "text/plain": [
       "         Country    Area (km2)    Area (mi2)    Population\n",
       "count        251  2.510000e+02  2.510000e+02  2.510000e+02\n",
       "unique       251           NaN           NaN           NaN\n",
       "top     Dominica           NaN           NaN           NaN\n",
       "freq           1           NaN           NaN           NaN\n",
       "mean         NaN  5.432938e+05  2.097769e+05  3.047293e+07\n",
       "std          NaN  1.716009e+06  6.625517e+05  1.283047e+08\n",
       "min          NaN  4.900000e-01  1.900000e-01  5.600000e+01\n",
       "25%          NaN  1.590200e+03  6.740000e+02  2.638290e+05\n",
       "50%          NaN  6.456200e+04  2.492800e+04  4.475353e+06\n",
       "75%          NaN  3.495840e+05  1.349750e+05  1.764158e+07\n",
       "max          NaN  1.712524e+07  6.612093e+06  1.405181e+09"
      ]
     },
     "execution_count": 20,
     "metadata": {},
     "output_type": "execute_result"
    }
   ],
   "source": [
    "df.describe(include = \"all\")"
   ]
  },
  {
   "cell_type": "code",
   "execution_count": 21,
   "metadata": {
    "scrolled": true
   },
   "outputs": [
    {
     "data": {
      "text/html": [
       "<div>\n",
       "<style scoped>\n",
       "    .dataframe tbody tr th:only-of-type {\n",
       "        vertical-align: middle;\n",
       "    }\n",
       "\n",
       "    .dataframe tbody tr th {\n",
       "        vertical-align: top;\n",
       "    }\n",
       "\n",
       "    .dataframe thead th {\n",
       "        text-align: right;\n",
       "    }\n",
       "</style>\n",
       "<table border=\"1\" class=\"dataframe\">\n",
       "  <thead>\n",
       "    <tr style=\"text-align: right;\">\n",
       "      <th></th>\n",
       "      <th>Area (km2)</th>\n",
       "      <th>Area (mi2)</th>\n",
       "      <th>Population</th>\n",
       "    </tr>\n",
       "  </thead>\n",
       "  <tbody>\n",
       "    <tr>\n",
       "      <td>Area (km2)</td>\n",
       "      <td>1.00000</td>\n",
       "      <td>1.000000</td>\n",
       "      <td>0.459150</td>\n",
       "    </tr>\n",
       "    <tr>\n",
       "      <td>Area (mi2)</td>\n",
       "      <td>1.00000</td>\n",
       "      <td>1.000000</td>\n",
       "      <td>0.459149</td>\n",
       "    </tr>\n",
       "    <tr>\n",
       "      <td>Population</td>\n",
       "      <td>0.45915</td>\n",
       "      <td>0.459149</td>\n",
       "      <td>1.000000</td>\n",
       "    </tr>\n",
       "  </tbody>\n",
       "</table>\n",
       "</div>"
      ],
      "text/plain": [
       "            Area (km2)  Area (mi2)  Population\n",
       "Area (km2)     1.00000    1.000000    0.459150\n",
       "Area (mi2)     1.00000    1.000000    0.459149\n",
       "Population     0.45915    0.459149    1.000000"
      ]
     },
     "execution_count": 21,
     "metadata": {},
     "output_type": "execute_result"
    }
   ],
   "source": [
    "df.corr(method='pearson', min_periods=1)"
   ]
  },
  {
   "cell_type": "markdown",
   "metadata": {},
   "source": [
    "### Scatterplot"
   ]
  },
  {
   "cell_type": "code",
   "execution_count": 22,
   "metadata": {},
   "outputs": [
    {
     "data": {
      "text/plain": [
       "(0.0, 1475440047.2)"
      ]
     },
     "execution_count": 22,
     "metadata": {},
     "output_type": "execute_result"
    },
    {
     "data": {
      "image/png": "[encoded data removed]",
      "text/plain": [
       "<Figure size 432x288 with 1 Axes>"
      ]
     },
     "metadata": {
      "needs_background": "light"
     },
     "output_type": "display_data"
    }
   ],
   "source": [
    "import matplotlib.pyplot as plt\n",
    "Scatterplot  = df.plot.scatter(x = \"Area (km2)\", y = \"Population\",c= \"black\")\n",
    "Scatterplot.set_xlim(0)\n",
    "Scatterplot.set_ylim(0) "
   ]
  }
 ],
 "metadata": {
  "kernelspec": {
   "display_name": "Python 3",
   "language": "python",
   "name": "python3"
  },
  "language_info": {
   "codemirror_mode": {
    "name": "ipython",
    "version": 3
   },
   "file_extension": ".py",
   "mimetype": "text/x-python",
   "name": "python",
   "nbconvert_exporter": "python",
   "pygments_lexer": "ipython3",
   "version": "3.7.4"
  }
 },
 "nbformat": 4,
 "nbformat_minor": 2
}
