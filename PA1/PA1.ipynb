{
 "cells": [
  {
   "cell_type": "markdown",
   "metadata": {},
   "source": [
    "# PA1: DNA Similarity\n",
    "## Xiwen Chen xc53@nau.edu\n",
    "- This program provides two algorithm to compare seqences: Number Of Matchand MAXIMUM CONTIGUOUS CHAIN.\n",
    "- `PA1.py` is also provided in the folder for running directly.\n"
   ]
  },
  {
   "cell_type": "markdown",
   "metadata": {},
   "source": [
    "## Igor Feedback\n",
    "\n",
    "* Overall: Well done! The only issue I found is untreated \\n at the end of the line\n",
    "\n",
    "* Number of matches: Correct (but there is a need to strip when \\n is there)\n",
    "* Maximum chain: Correct (but there is a need to strip when \\n is there)\n",
    "* User-input: OK\n",
    "* Max Shift: OK. \n",
    "* Exception handling/checks: OK\n",
    "    - Files: OK.\n",
    "    - Conversions: OK.\n",
    "    - Inputs: OK... \n",
    "    - same size, no bad chars, etc.:  OK\n",
    "* Functions: Great\n",
    "\n",
    "* Variable + function names: OK!\n",
    "\n",
    "* **Your grade is 99/100**\n",
    "\n",
    "\n",
    "I decided to write this program by starting with the functions to determine both the pairs and contiguous requiring the inputs of both the lists and the length of the lists.\n",
    "Then a file input system is implemented where an individual needs to input the name of a file minus the .txt at the end (ie if the file is called \"file1.txt\", the user only inputs \"file1\")\n",
    "The files are checked if they exist and then puts the contents into two lists for easy analysis. \n",
    "Then the file asks for what shifting needs to happen as well as what output they want. Both are done using while and if statements.\n"
   ]
  },
  {
   "cell_type": "markdown",
   "metadata": {},
   "source": [
    "### Sequence Input \n",
    "- Exception is `FileNotFoundError` for file input.\n",
    "- This function also check the sequence availablity: valied character, same length."
   ]
  },
  {
   "cell_type": "code",
   "execution_count": 9,
   "metadata": {},
   "outputs": [],
   "source": [
    "def SequenceInput():\n",
    "    Flag = 0\n",
    "    Flag1 = 0\n",
    "    Flag2 = 0\n",
    "    while Flag == 0:\n",
    "        while 1:\n",
    "            try:\n",
    "                FileNameA = input(\"Enter a sequence A file name:\")\n",
    "                fA = open('./'+FileNameA,\"r\")\n",
    "            except FileNotFoundError:\n",
    "                print(\"File A is not existed\")\n",
    "            else:\n",
    "                try:\n",
    "                    FileNameB = input(\"Enter a sequence B file name:\")\n",
    "                    fB = open('./'+FileNameB,\"r\")\n",
    "                except FileNotFoundError:\n",
    "                    print(\"File B is not existed\")\n",
    "\n",
    "                else:\n",
    "                    SequenceA = fA.readline()\n",
    "                    SequenceA.strip(\"\\n\")\n",
    "                    fA.close()\n",
    "                    SequenceB = fB.readline()\n",
    "                    SequenceB.strip(\"\\n\")\n",
    "                    fB.close()\n",
    "                    break\n",
    "                    \n",
    "        for Char in SequenceA:\n",
    "            if Char != 'A' and Char != 'G' and Char != 'C' and Char != 'T':\n",
    "                print(\"Your sequence A has unavilable character! Please input again\\n\")\n",
    "                Flag1 = 1\n",
    "                break\n",
    "                     \n",
    "        for Char in SequenceB:\n",
    "            if Char != 'A' and Char != 'G' and Char != 'C' and Char != 'T':\n",
    "                print(\"Your sequence B has unavilable character! Please input again\\n\")\n",
    "                Flag2 = 1\n",
    "                break\n",
    "                                          \n",
    "        if len(SequenceA)==len(SequenceB) and Flag1 == 0 and Flag2 == 0:\n",
    "            Flag = 1\n",
    "            return SequenceA,SequenceB\n",
    "        elif len(SequenceA)!=len(SequenceB):\n",
    "            \n",
    "            print(\"The sequences must have the same length! Please input again\\n\")\n",
    "                \n",
    "\n",
    "\n",
    "    "
   ]
  },
  {
   "cell_type": "markdown",
   "metadata": {},
   "source": [
    "### Max Shift Bit input function\n",
    "- Input max shift bit. The exception is `MaxBit` not a non-negative integer. "
   ]
  },
  {
   "cell_type": "code",
   "execution_count": 10,
   "metadata": {},
   "outputs": [],
   "source": [
    "def MaxShiftBitInput():\n",
    "    while 1:\n",
    "        try:\n",
    "            print(\"We suggest that the number of your maximum shifted bits is no more than the greatest length of your sequence.\\n \")\n",
    "            MaxBit = input(\"please give a non-negative integer of the maximum shift bit:\")\n",
    "            MaxBit = int(MaxBit)\n",
    "            if MaxBit<0:\n",
    "                raise ValueError\n",
    "        except ValueError:\n",
    "            print(\"Please input a non-negative integer\")\n",
    "        else:\n",
    "            break\n",
    "    return MaxBit\n",
    "    "
   ]
  },
  {
   "cell_type": "markdown",
   "metadata": {},
   "source": [
    "### Shifting function\n",
    "- `-` before the string denotes the shifting operation. How many '-' means how many bits you shift.\n",
    "- e.g. `Shifting('ACGTTTA',3)` outputs `'---ACGTTTA'`"
   ]
  },
  {
   "cell_type": "code",
   "execution_count": 11,
   "metadata": {},
   "outputs": [],
   "source": [
    "def Shifting(Sequence,ShiftBits):\n",
    "    NewSequence =list()\n",
    "    for i in range(ShiftBits):\n",
    "        NewSequence.append('-')\n",
    "    for i in range(len(Sequence)):        \n",
    "        NewSequence.append(Sequence[i])\n",
    "    \n",
    "    return ''.join(NewSequence)\n",
    "    "
   ]
  },
  {
   "cell_type": "markdown",
   "metadata": {},
   "source": [
    "#### Testing for this function "
   ]
  },
  {
   "cell_type": "code",
   "execution_count": 12,
   "metadata": {},
   "outputs": [
    {
     "data": {
      "text/plain": [
       "'---ACGTTTA'"
      ]
     },
     "execution_count": 12,
     "metadata": {},
     "output_type": "execute_result"
    }
   ],
   "source": [
    "Shifting('ACGTTTA',3)"
   ]
  },
  {
   "cell_type": "markdown",
   "metadata": {},
   "source": [
    "### DNA NumberOfMatch Similarity \n",
    "- We have two shifting scenories: shift A or shift B. **Ideally**, if we want to shift A, the maximum shift bis is `len(B)`; while shifting B, the  maximum shift bis is `len(A)`\n",
    "- Use `enumerate()` to return all indexes with maximu score\n",
    "- The function returns the max score, and two sequence after shifting processing. If one shifted sequence has more than one list return, it means all of them are optimal solutions. e.g. `NumberOfMatch('1AA','AAA',3)` The output is `(2, '1AA', ['AAA', '-AAA'])`, meaning that the max score is `2`, sequence A is not shifted, seqeucene to shifted by 0 or 1 can both achieve the best performance (which is 2). \n",
    "- This function can compare different length sequence by setting up `MaxShiftBits_1` and `MaxShiftBits_2`."
   ]
  },
  {
   "cell_type": "code",
   "execution_count": 13,
   "metadata": {},
   "outputs": [],
   "source": [
    "def NumberOfMatch(SequenceA,SequenceB,MaxShiftBits):\n",
    "    \n",
    "    ##MaxShiftBits_1 = len(SequenceB)+1\n",
    "    ##MaxShiftBits_2 = len(SequenceA)+1\n",
    "    Score_1 = list()\n",
    "    Score_2 = list()\n",
    "    \n",
    "    for i in range(MaxShiftBits+1):\n",
    "        Score_1.append(0)\n",
    "        ShiftedA = Shifting(SequenceA,i)\n",
    "        for j in range(min(len(ShiftedA),len(SequenceB))):            \n",
    "            if ShiftedA[j]==SequenceB[j]:\n",
    "                    Score_1[i]=Score_1[i]+1\n",
    "    # Get the shifted string with max score by only shifting A\n",
    "    index = [i for i,j in enumerate(Score_1) if j==max(Score_1)]\n",
    "    ShiftedA = list()\n",
    "    for i in index:\n",
    "        ShiftedA.append(Shifting(SequenceA,i))\n",
    "    \n",
    "    #ShiftedA = Shifting(SequenceA,Score_1.index(max(Score_1)))               \n",
    "                \n",
    "                \n",
    "    for i in range(MaxShiftBits+1):\n",
    "        Score_2.append(0)\n",
    "        ShiftedB = Shifting(SequenceB,i)\n",
    "        for j in range(min(len(ShiftedB),len(SequenceA))):            \n",
    "            if ShiftedB[j]==SequenceA[j]:\n",
    "                    Score_2[i]=Score_2[i]+1\n",
    "    # Get the shifted string with max score by only shifting A\n",
    "    # Find the location of max score_2\n",
    "    index = [i for i,j in enumerate(Score_2) if j==max(Score_2)]\n",
    "    ShiftedB = list()\n",
    "    for i in index:\n",
    "        ShiftedB.append(Shifting(SequenceB,i))\n",
    "    \n",
    "    #ShiftedB = Shifting(SequenceB,Score_2.index(max(Score_2)))   \n",
    "    \n",
    "    \n",
    "    if max(Score_1)>max(Score_2):\n",
    "        ShiftedA = ShiftedA\n",
    "        ShiftedB = []\n",
    "        ShiftedB.append(SequenceB)\n",
    "    else:\n",
    "        ShiftedA = []\n",
    "        ShiftedA.append(SequenceA)\n",
    "        ShiftedB = ShiftedB\n",
    "                    \n",
    "                    \n",
    "    Score = max(max(Score_1),max(Score_2))\n",
    "    \n",
    "    return Score, ShiftedA, ShiftedB\n",
    "    \n",
    "    \n",
    "                \n",
    "        \n",
    "    "
   ]
  },
  {
   "cell_type": "markdown",
   "metadata": {},
   "source": [
    "#### Testing for the function"
   ]
  },
  {
   "cell_type": "code",
   "execution_count": 14,
   "metadata": {},
   "outputs": [
    {
     "data": {
      "text/plain": [
       "(2, ['1AA'], ['AAA', '-AAA'])"
      ]
     },
     "execution_count": 14,
     "metadata": {},
     "output_type": "execute_result"
    }
   ],
   "source": [
    "NumberOfMatch('1AA','AAA',3)"
   ]
  },
  {
   "cell_type": "markdown",
   "metadata": {},
   "source": [
    "### MaxChain\n",
    "- Similarly to algorithm `NumberOfMatch`, we have two shifting operations, for two sequence respectively.\n",
    "- To calculate max contiguous, we first label the each mathced bits, and store the signal into list `SubIndex`:`1` denotes matached, `''`denotes no matched. Then deploy `itertools.groupby()` to divide the list into group-level. Here each element of each group is adjacent and equal. Then the biggest length in all valied group can represent the max contiguous score.\n",
    "- Example is shown below. Also, like early mention, if the return of one sequence has more than one sequence, it means all these seuqneces are optimal solutions."
   ]
  },
  {
   "cell_type": "code",
   "execution_count": 15,
   "metadata": {},
   "outputs": [],
   "source": [
    "import itertools\n",
    "\n",
    "\n",
    "def MaxChain(SequenceA,SequenceB,MaxShiftBits):\n",
    "    \n",
    "    ##MaxShiftBits_1 = len(SequenceB)+1\n",
    "    ##MaxShiftBits_2 = len(SequenceA)+1\n",
    "    Score_1 = list()\n",
    "    Score_2 = list()\n",
    "    \n",
    "    for i in range(MaxShiftBits+1):\n",
    "        \n",
    "        ShiftedA = Shifting(SequenceA,i)\n",
    "        SubIndex = list()\n",
    "        for j in range(min(len(ShiftedA),len(SequenceB))):            \n",
    "            if ShiftedA[j]==SequenceB[j]:\n",
    "                SubIndex.append(1)\n",
    "            else:\n",
    "                SubIndex.append('')\n",
    "        SubScore = [0]\n",
    "        for k,v in itertools.groupby(SubIndex):\n",
    "            if k!='':\n",
    "                SubScore.append(len(list(v)))\n",
    "        Score_1.append(max(SubScore))\n",
    "            \n",
    "                \n",
    "        \n",
    "                    \n",
    "                    \n",
    "    # Get the shifted string with max score by only shifting A\n",
    "    index = [i for i,j in enumerate(Score_1) if j==max(Score_1)]\n",
    "    ShiftedA = list()\n",
    "    for i in index:\n",
    "        ShiftedA.append(Shifting(SequenceA,i))\n",
    "        \n",
    "                \n",
    "                \n",
    "                \n",
    "    for i in range(MaxShiftBits+1):\n",
    "        \n",
    "        ShiftedB = Shifting(SequenceB,i)\n",
    "        SubIndex = list()\n",
    "        for j in range(min(len(ShiftedB),len(SequenceA))):            \n",
    "            if ShiftedB[j]==SequenceA[j]:\n",
    "                SubIndex.append(1)\n",
    "            else:\n",
    "                SubIndex.append('')\n",
    "        SubScore = [0]\n",
    "        for k,v in itertools.groupby(SubIndex):\n",
    "            if k!='':\n",
    "                SubScore.append(len(list(v)))\n",
    "        Score_2.append(max(SubScore))\n",
    "                    \n",
    "                    \n",
    "    # Get the shifted string with max score by only shifting A\n",
    "    # Find the location of max score_2\n",
    "    index = [i for i,j in enumerate(Score_2) if j==max(Score_2)]\n",
    "    ShiftedB = list()\n",
    "    for i in index:\n",
    "        ShiftedB.append(Shifting(SequenceB,i))\n",
    "    \n",
    "    #ShiftedB = Shifting(SequenceB,Score_2.index(max(Score_2)))   \n",
    "    \n",
    "    \n",
    "    if max(Score_1)>max(Score_2):\n",
    "        ShiftedA = ShiftedA\n",
    "        ShiftedB = []\n",
    "        ShiftedB.append(SequenceB)\n",
    "    else:\n",
    "        ShiftedA = []\n",
    "        ShiftedA.append(SequenceA)\n",
    "        ShiftedB = ShiftedB\n",
    "                    \n",
    "                    \n",
    "    Score = max(max(Score_1),max(Score_2))\n",
    "    \n",
    "    return Score, ShiftedA, ShiftedB\n",
    "    "
   ]
  },
  {
   "cell_type": "code",
   "execution_count": 16,
   "metadata": {},
   "outputs": [
    {
     "data": {
      "text/plain": [
       "(2,\n",
       " ['ACTTTTCAC'],\n",
       " ['TTATCTCGA', '--TTATCTCGA', '---TTATCTCGA', '----TTATCTCGA'])"
      ]
     },
     "execution_count": 16,
     "metadata": {},
     "output_type": "execute_result"
    }
   ],
   "source": [
    "a='ACTTTTCAC'\n",
    "b='TTATCTCGA'\n",
    "MaxChain(a,b,8)"
   ]
  },
  {
   "cell_type": "markdown",
   "metadata": {},
   "source": [
    "### main function\n",
    "- `Option`--->`SequenceInput()`--->`MaxShiftBitInput()`--->`NumberOfMatch`or`MaxChain`\n",
    "- Exception is  `ValueError`from `Option` input. We also manually raise the error if `Option` is not equal to 1,2 or 3.\n",
    "- Option 3 is for exiting the program."
   ]
  },
  {
   "cell_type": "code",
   "execution_count": 17,
   "metadata": {},
   "outputs": [],
   "source": [
    "def main():       \n",
    "    while 1:\n",
    "        flag = 0\n",
    "        while flag == 0:\n",
    "            try:\n",
    "                Option = int(input(\"Please select you algorithm to compare the sequence\\n \\\n",
    "                                1 : Number of match\\n \\\n",
    "                                2 : Maximum contiguous chain \\n \\\n",
    "                                3 ：Exit the program \\n \\\n",
    "                                Your Select is:\"))\n",
    "                if Option!=1 and Option!=2 and Option!=3:\n",
    "                    raise ValueError\n",
    "            except ValueError:\n",
    "                print(\"Please input 1,2 or 3\\n\")\n",
    "            else:\n",
    "                flag = 1\n",
    "                if   Option == 1:\n",
    "                    print(\"You selected **Number of match**\\n\")\n",
    "                elif Option == 2:\n",
    "                    print(\"You selected **Maximum contiguous chain**\\n\")\n",
    "                else:\n",
    "                    return\n",
    "\n",
    "        SequenceA,SequenceB=SequenceInput()\n",
    "        print(\"The sequence A you choose is:\\n\",SequenceA)\n",
    "        print(\"The sequence B you choose is:\\n\",SequenceB)\n",
    "\n",
    "\n",
    "        MaxShiftBits=MaxShiftBitInput()\n",
    "        print(\"The Max Shift Bits you choose is:%d\\n\"%MaxShiftBits)\n",
    "        \n",
    "\n",
    "        if Option == 1:\n",
    "            Score, ShiftedA, ShiftedB = NumberOfMatch(SequenceA,SequenceB,MaxShiftBits)\n",
    "            print(\"The number of match of the two sequence is %d\\n\"%Score)\n",
    "            print(\"The processed sequence A is:\\n\",ShiftedA)\n",
    "            print(\"The processed sequence B is:\\n\",ShiftedB)\n",
    "            print(\"*-*denotes the bit shifting\")\n",
    "\n",
    "        else:\n",
    "            Score, ShiftedA, ShiftedB = MaxChain(SequenceA,SequenceB,MaxShiftBits)\n",
    "            print(\"The max contiguous of the two sequence is %d\\n\"%Score)\n",
    "            print(\"The processed sequence A is:\\n\",ShiftedA)\n",
    "            print(\"The processed sequence B is:\\n\",ShiftedB)\n",
    "            print(\"*-*denotes the bit shifting\")\n",
    "                \n",
    "        \n",
    "    "
   ]
  },
  {
   "cell_type": "markdown",
   "metadata": {},
   "source": [
    "### To convert .py file"
   ]
  },
  {
   "cell_type": "code",
   "execution_count": null,
   "metadata": {},
   "outputs": [
    {
     "name": "stdout",
     "output_type": "stream",
     "text": [
      "Please select you algorithm to compare the sequence\n",
      "                                 1 : Number of match\n",
      "                                 2 : Maximum contiguous chain \n",
      "                                 3 ：Exit the program \n",
      "                                 Your Select is:1\n",
      "You selected **Number of match**\n",
      "\n",
      "Enter a sequence A file name:Seq1.txt\n",
      "Enter a sequence B file name:Seq1.txt\n",
      "The sequence A you choose is:\n",
      " ACTGATCAC\n",
      "The sequence B you choose is:\n",
      " ACTGATCAC\n",
      "We suggest that the number of your maximum shifted bits is no more than the greatest length of your sequence.\n",
      " \n",
      "please give a non-negative integer of the maximum shift bit:6\n",
      "The Max Shift Bits you choose is:6\n",
      "\n",
      "The number of match of the two sequence is 9\n",
      "\n",
      "The processed sequence A is:\n",
      " ['ACTGATCAC']\n",
      "The processed sequence B is:\n",
      " ['ACTGATCAC']\n",
      "*-*denotes the bit shifting\n",
      "Please select you algorithm to compare the sequence\n",
      "                                 1 : Number of match\n",
      "                                 2 : Maximum contiguous chain \n",
      "                                 3 ：Exit the program \n",
      "                                 Your Select is:1\n",
      "You selected **Number of match**\n",
      "\n",
      "Enter a sequence A file name:Seq1.txt\n",
      "Enter a sequence B file name:Seq1.txt\n",
      "Your sequence A has unavilable character! Please input again\n",
      "\n",
      "Your sequence B has unavilable character! Please input again\n",
      "\n"
     ]
    }
   ],
   "source": [
    "if __name__ == '__main__':\n",
    "    main()"
   ]
  },
  {
   "cell_type": "code",
   "execution_count": null,
   "metadata": {},
   "outputs": [],
   "source": []
  }
 ],
 "metadata": {
  "kernelspec": {
   "display_name": "Python 3",
   "language": "python",
   "name": "python3"
  },
  "language_info": {
   "codemirror_mode": {
    "name": "ipython",
    "version": 3
   },
   "file_extension": ".py",
   "mimetype": "text/x-python",
   "name": "python",
   "nbconvert_exporter": "python",
   "pygments_lexer": "ipython3",
   "version": "3.7.6"
  }
 },
 "nbformat": 4,
 "nbformat_minor": 2
}
