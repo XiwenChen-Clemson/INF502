{
 "cells": [
  {
   "cell_type": "markdown",
   "metadata": {},
   "source": [
    "# Oct-20 inclass assignment\n",
    "## Members: Xiwen Chen, Yifei Zhang, Ai Zhang\n",
    "- Check input -> V00->check IsNotNone/value for first four methods -> `divid` :check `divid` by zero->V01->`pow` no return->V02\n",
    "-> `pow` value (positive input)->V03->`pow` value (positive input)->V04\n",
    "**If no need input negative value or float to  `pow`, V03 is good enough"
   ]
  },
  {
   "cell_type": "code",
   "execution_count": 75,
   "metadata": {},
   "outputs": [],
   "source": [
    "class Calculator: \n",
    "    def add(x, y):\n",
    "        return x + y \n",
    "\n",
    "    def subtract(x, y): \n",
    "        return x - y \n",
    "\n",
    "    def multiply(x, y): \n",
    "        return x * y \n",
    "\n",
    "    def divide(x, y): \n",
    "        return x / y\n",
    "\n",
    "    def pow(x, y):\n",
    "        res = 1\n",
    "        for i in range(2,y):\n",
    "            res = res*i"
   ]
  },
  {
   "cell_type": "markdown",
   "metadata": {},
   "source": [
    "### V00\n",
    "- Input typeerror check"
   ]
  },
  {
   "cell_type": "code",
   "execution_count": 76,
   "metadata": {},
   "outputs": [
    {
     "name": "stderr",
     "output_type": "stream",
     "text": [
      "E\n",
      "======================================================================\n",
      "ERROR: test_TypeError (__main__.TestCalculator)\n",
      "----------------------------------------------------------------------\n",
      "Traceback (most recent call last):\n",
      "  File \"<ipython-input-76-0684c9015cf6>\", line 5, in test_TypeError\n",
      "    self.assertRaises(TypeError,Calculator.add(1,'Hello'))\n",
      "  File \"<ipython-input-75-4018b66d73c0>\", line 3, in add\n",
      "    return x + y\n",
      "TypeError: unsupported operand type(s) for +: 'int' and 'str'\n",
      "\n",
      "----------------------------------------------------------------------\n",
      "Ran 1 test in 0.001s\n",
      "\n",
      "FAILED (errors=1)\n"
     ]
    }
   ],
   "source": [
    "\n",
    "import unittest\n",
    "\n",
    "class TestCalculator(unittest.TestCase):   \n",
    "    def test_TypeError(self):       \n",
    "        self.assertRaises(TypeError,Calculator.add(1,'Hello'))  \n",
    "if __name__ == '__main__':\n",
    "    unittest.main(argv = ['first-arg-is-ignored'],exit = False)"
   ]
  },
  {
   "cell_type": "code",
   "execution_count": 77,
   "metadata": {},
   "outputs": [],
   "source": [
    "class Calculator: \n",
    "    \n",
    "    def add(x, y):\n",
    "        if isinstance(x, (int, float))== False or isinstance(y, (int, float))== False:\n",
    "            return False\n",
    "        else:\n",
    "            return x + y \n",
    "    def subtract(x, y):\n",
    "        if  isinstance(x, (int, float))== False or isinstance(y, (int, float))== False:\n",
    "            return False\n",
    "        else:\n",
    "            return x - y \n",
    "\n",
    "    def multiply(x, y):\n",
    "        if  isinstance(x, (int, float))== False or isinstance(y, (int, float))== False:\n",
    "            return False\n",
    "        else:\n",
    "            return x * y \n",
    "\n",
    "    def divide(x, y):\n",
    "        if  isinstance(x, (int, float))== False or isinstance(y, (int, float))== False:\n",
    "            return False\n",
    "        else:\n",
    "            return x / y\n",
    "\n",
    "    def pow(x, y):\n",
    "        if isinstance(x, (int, float))== False or isinstance(y, (int, float))== False:\n",
    "            return False\n",
    "        else:\n",
    "            res = 1\n",
    "            for i in range(2,y):\n",
    "                res = res*i\n",
    "    "
   ]
  },
  {
   "cell_type": "code",
   "execution_count": 78,
   "metadata": {},
   "outputs": [
    {
     "name": "stderr",
     "output_type": "stream",
     "text": [
      ".\n",
      "----------------------------------------------------------------------\n",
      "Ran 1 test in 0.001s\n",
      "\n",
      "OK\n"
     ]
    }
   ],
   "source": [
    "import unittest\n",
    "class TestCalculator(unittest.TestCase):   \n",
    "    def test_TypeError(self):       \n",
    "        self.assertFalse(Calculator.add(1,'Hello'))\n",
    "        self.assertFalse(Calculator.subtract(1,'Hello'))\n",
    "        self.assertFalse(Calculator.multiply(1,'Hello'))\n",
    "        self.assertFalse(Calculator.divide(1,'Hello'))\n",
    "        self.assertFalse(Calculator.pow(1,'Hello'))\n",
    "if __name__ == '__main__':\n",
    "    unittest.main(argv = ['first-arg-is-ignored'],exit = False)"
   ]
  },
  {
   "cell_type": "markdown",
   "metadata": {},
   "source": [
    "- check IsNotNone/value of `add`,`subtract`,`multiply`"
   ]
  },
  {
   "cell_type": "code",
   "execution_count": 79,
   "metadata": {},
   "outputs": [
    {
     "name": "stderr",
     "output_type": "stream",
     "text": [
      ".\n",
      "----------------------------------------------------------------------\n",
      "Ran 1 test in 0.001s\n",
      "\n",
      "OK\n"
     ]
    }
   ],
   "source": [
    "import unittest\n",
    "class TestCalculator(unittest.TestCase):\n",
    "    def test_check_None_value(self):\n",
    "        self.assertIsNotNone(Calculator.add(1,1))\n",
    "        self.assertIsNotNone(Calculator.subtract(1,1))\n",
    "        self.assertIsNotNone(Calculator.multiply(1,1))\n",
    "        self.assertEqual(2,Calculator.add(1,1))\n",
    "        self.assertEqual(0,Calculator.subtract(1,1))\n",
    "        self.assertEqual(1,Calculator.multiply(1,1))\n",
    "        self.assertEqual(2.4,Calculator.add(1.2,1.2))\n",
    "        self.assertEqual(0,Calculator.subtract(1.2,1.2))\n",
    "        self.assertEqual(1.44,Calculator.multiply(1.2,1.2))\n",
    "if __name__ == '__main__':\n",
    "    unittest.main(argv = ['first-arg-is-ignored'],exit = False)\n",
    "        "
   ]
  },
  {
   "cell_type": "markdown",
   "metadata": {},
   "source": [
    "### V01\n",
    "- check IsNotNone/value of `divid`\n",
    "- check `divid` by zero"
   ]
  },
  {
   "cell_type": "code",
   "execution_count": 80,
   "metadata": {
    "scrolled": true
   },
   "outputs": [
    {
     "name": "stderr",
     "output_type": "stream",
     "text": [
      ".E\n",
      "======================================================================\n",
      "ERROR: test_divid_zero (__main__.TestCalculator)\n",
      "----------------------------------------------------------------------\n",
      "Traceback (most recent call last):\n",
      "  File \"<ipython-input-80-f51a23e300a2>\", line 7, in test_divid_zero\n",
      "    self.assertRaises(ZeroDivisionError,Calculator.divide(1,0))\n",
      "  File \"<ipython-input-77-4d1f47bfb59c>\", line 24, in divide\n",
      "    return x / y\n",
      "ZeroDivisionError: division by zero\n",
      "\n",
      "----------------------------------------------------------------------\n",
      "Ran 2 tests in 0.002s\n",
      "\n",
      "FAILED (errors=1)\n"
     ]
    }
   ],
   "source": [
    "import unittest\n",
    "class TestCalculator(unittest.TestCase):\n",
    "    def test_check_None_value(self):\n",
    "        self.assertIsNotNone(Calculator.divide(1,1))\n",
    "        self.assertEqual(1,Calculator.divide(1,1))\n",
    "        self.assertEqual(1,Calculator.divide(1.2,1.2))\n",
    "    def test_divid_zero(self):       \n",
    "        self.assertRaises(ZeroDivisionError,Calculator.divide(1,0))\n",
    "            \n",
    "if __name__ == '__main__':\n",
    "    unittest.main(argv = ['first-arg-is-ignored'],exit = False)"
   ]
  },
  {
   "cell_type": "code",
   "execution_count": 81,
   "metadata": {},
   "outputs": [],
   "source": [
    "class Calculator: \n",
    "    \n",
    "    def add(x, y):\n",
    "        if isinstance(x, (int, float))== False or isinstance(y, (int, float))== False:\n",
    "            return False\n",
    "        else:\n",
    "            return x + y \n",
    "    def subtract(x, y):\n",
    "        if  isinstance(x, (int, float))== False or isinstance(y, (int, float))== False:\n",
    "            return False\n",
    "        else:\n",
    "            return x - y \n",
    "\n",
    "    def multiply(x, y):\n",
    "        if  isinstance(x, (int, float))== False or isinstance(y, (int, float))== False:\n",
    "            return False\n",
    "        else:\n",
    "            return x * y \n",
    "\n",
    "    def divide(x, y):\n",
    "        if  isinstance(x, (int, float))== False or isinstance(y, (int, float))== False:\n",
    "            return False\n",
    "        elif y== 0:\n",
    "            return False\n",
    "        else:\n",
    "            return x / y\n",
    "\n",
    "    def pow(x, y):\n",
    "        if isinstance(x, (int, float))== False or isinstance(y, (int, float))== False:\n",
    "            return False\n",
    "        else:\n",
    "            res = 1\n",
    "            for i in range(2,y):\n",
    "                res = res*i\n",
    "    "
   ]
  },
  {
   "cell_type": "code",
   "execution_count": 82,
   "metadata": {},
   "outputs": [
    {
     "name": "stderr",
     "output_type": "stream",
     "text": [
      ".\n",
      "----------------------------------------------------------------------\n",
      "Ran 1 test in 0.001s\n",
      "\n",
      "OK\n"
     ]
    }
   ],
   "source": [
    "import unittest\n",
    "class TestCalculator(unittest.TestCase):\n",
    "    \n",
    "    def test_divid_zero(self):       \n",
    "        self.assertFalse(Calculator.divide(1,0))\n",
    "            \n",
    "if __name__ == '__main__':\n",
    "    unittest.main(argv = ['first-arg-is-ignored'],exit = False)"
   ]
  },
  {
   "cell_type": "markdown",
   "metadata": {},
   "source": [
    "### V02\n",
    "- `pow` testing: isNotNone "
   ]
  },
  {
   "cell_type": "code",
   "execution_count": 83,
   "metadata": {},
   "outputs": [
    {
     "name": "stderr",
     "output_type": "stream",
     "text": [
      "F\n",
      "======================================================================\n",
      "FAIL: test_pow_IsNotNone (__main__.TestCalculator)\n",
      "----------------------------------------------------------------------\n",
      "Traceback (most recent call last):\n",
      "  File \"<ipython-input-83-324f3dc7aa0b>\", line 5, in test_pow_IsNotNone\n",
      "    self.assertIsNotNone(Calculator.pow(2,3))\n",
      "AssertionError: unexpectedly None\n",
      "\n",
      "----------------------------------------------------------------------\n",
      "Ran 1 test in 0.001s\n",
      "\n",
      "FAILED (failures=1)\n"
     ]
    }
   ],
   "source": [
    "import unittest\n",
    "class TestCalculator(unittest.TestCase):\n",
    "    \n",
    "    def test_pow_IsNotNone(self):\n",
    "        self.assertIsNotNone(Calculator.pow(2,3))    \n",
    "if __name__ == '__main__':\n",
    "    unittest.main(argv = ['first-arg-is-ignored'],exit = False)"
   ]
  },
  {
   "cell_type": "code",
   "execution_count": 84,
   "metadata": {},
   "outputs": [],
   "source": [
    "class Calculator: \n",
    "    \n",
    "    def add(x, y):\n",
    "        if isinstance(x, (int, float))== False or isinstance(y, (int, float))== False:\n",
    "            return False\n",
    "        else:\n",
    "            return x + y \n",
    "    def subtract(x, y):\n",
    "        if  isinstance(x, (int, float))== False or isinstance(y, (int, float))== False:\n",
    "            return False\n",
    "        else:\n",
    "            return x - y \n",
    "\n",
    "    def multiply(x, y):\n",
    "        if  isinstance(x, (int, float))== False or isinstance(y, (int, float))== False:\n",
    "            return False\n",
    "        else:\n",
    "            return x * y \n",
    "\n",
    "    def divide(x, y):\n",
    "        if  isinstance(x, (int, float))== False or isinstance(y, (int, float))== False:\n",
    "            return False\n",
    "        elif y== 0:\n",
    "            return False\n",
    "        else:\n",
    "            return x / y\n",
    "\n",
    "    def pow(x, y):\n",
    "        if isinstance(x, (int, float))== False or isinstance(y, (int, float))== False:\n",
    "            return False\n",
    "        else:\n",
    "            res = 1\n",
    "            for i in range(2,y):\n",
    "                res = res*i\n",
    "            return res"
   ]
  },
  {
   "cell_type": "code",
   "execution_count": 85,
   "metadata": {},
   "outputs": [
    {
     "name": "stderr",
     "output_type": "stream",
     "text": [
      ".\n",
      "----------------------------------------------------------------------\n",
      "Ran 1 test in 0.001s\n",
      "\n",
      "OK\n"
     ]
    }
   ],
   "source": [
    "import unittest\n",
    "class TestCalculator(unittest.TestCase):\n",
    "    \n",
    "    def test_pow_IsNotNone(self):\n",
    "        self.assertIsNotNone(Calculator.pow(2,3))    \n",
    "if __name__ == '__main__':\n",
    "    unittest.main(argv = ['first-arg-is-ignored'],exit = False)"
   ]
  },
  {
   "cell_type": "markdown",
   "metadata": {},
   "source": [
    "### V03\n",
    "- Value test"
   ]
  },
  {
   "cell_type": "code",
   "execution_count": 86,
   "metadata": {},
   "outputs": [
    {
     "name": "stderr",
     "output_type": "stream",
     "text": [
      "F\n",
      "======================================================================\n",
      "FAIL: test_pow_Value1 (__main__.TestCalculator)\n",
      "----------------------------------------------------------------------\n",
      "Traceback (most recent call last):\n",
      "  File \"<ipython-input-86-81894938df5c>\", line 5, in test_pow_Value1\n",
      "    self.assertEqual(8,Calculator.pow(2,3))\n",
      "AssertionError: 8 != 2\n",
      "\n",
      "----------------------------------------------------------------------\n",
      "Ran 1 test in 0.001s\n",
      "\n",
      "FAILED (failures=1)\n"
     ]
    }
   ],
   "source": [
    "import unittest\n",
    "class TestCalculator(unittest.TestCase):\n",
    "    \n",
    "    def test_pow_Value1(self):\n",
    "        self.assertEqual(8,Calculator.pow(2,3))    \n",
    "if __name__ == '__main__':\n",
    "    unittest.main(argv = ['first-arg-is-ignored'],exit = False)"
   ]
  },
  {
   "cell_type": "code",
   "execution_count": 1,
   "metadata": {},
   "outputs": [],
   "source": [
    "class Calculator: \n",
    "    \n",
    "    def add(x, y):\n",
    "        if isinstance(x, (int, float))== False or isinstance(y, (int, float))== False:\n",
    "            return False\n",
    "        else:\n",
    "            return x + y \n",
    "    def subtract(x, y):\n",
    "        if  isinstance(x, (int, float))== False or isinstance(y, (int, float))== False:\n",
    "            return False\n",
    "        else:\n",
    "            return x - y \n",
    "\n",
    "    def multiply(x, y):\n",
    "        if  isinstance(x, (int, float))== False or isinstance(y, (int, float))== False:\n",
    "            return False\n",
    "        else:\n",
    "            return x * y \n",
    "\n",
    "    def divide(x, y):\n",
    "        if  isinstance(x, (int, float))== False or isinstance(y, (int, float))== False:\n",
    "            return False\n",
    "        elif y== 0:\n",
    "            return False\n",
    "        else:\n",
    "            return x / y\n",
    "\n",
    "    def pow(x, y):\n",
    "        if isinstance(x, (int, float))== False or isinstance(y, (int, float))== False:\n",
    "            return False\n",
    "        else:\n",
    "            res = 1\n",
    "            for i in range(y):\n",
    "                res = res*x\n",
    "            return res"
   ]
  },
  {
   "cell_type": "code",
   "execution_count": 88,
   "metadata": {},
   "outputs": [
    {
     "name": "stderr",
     "output_type": "stream",
     "text": [
      ".\n",
      "----------------------------------------------------------------------\n",
      "Ran 1 test in 0.001s\n",
      "\n",
      "OK\n"
     ]
    }
   ],
   "source": [
    "import unittest\n",
    "class TestCalculator(unittest.TestCase):\n",
    "    \n",
    "    def test_pow_Value1(self):\n",
    "        self.assertEqual(8,Calculator.pow(2,3))    \n",
    "if __name__ == '__main__':\n",
    "    unittest.main(argv = ['first-arg-is-ignored'],exit = False)"
   ]
  },
  {
   "cell_type": "markdown",
   "metadata": {},
   "source": [
    "### V04\n",
    "- test float or negtive value"
   ]
  },
  {
   "cell_type": "code",
   "execution_count": 2,
   "metadata": {},
   "outputs": [
    {
     "name": "stderr",
     "output_type": "stream",
     "text": [
      "E\n",
      "======================================================================\n",
      "ERROR: test_pow_Value_negative_float (__main__.TestCalculator)\n",
      "----------------------------------------------------------------------\n",
      "Traceback (most recent call last):\n",
      "  File \"<ipython-input-2-d0f451df0c6a>\", line 4, in test_pow_Value_negative_float\n",
      "    self.assertEqual(2,Calculator.pow(4,0.5))\n",
      "  File \"<ipython-input-1-ec108375ca6f>\", line 33, in pow\n",
      "    for i in range(y):\n",
      "TypeError: 'float' object cannot be interpreted as an integer\n",
      "\n",
      "----------------------------------------------------------------------\n",
      "Ran 1 test in 0.003s\n",
      "\n",
      "FAILED (errors=1)\n"
     ]
    }
   ],
   "source": [
    "import unittest\n",
    "class TestCalculator(unittest.TestCase): \n",
    "    def test_pow_Value_negative_float(self):\n",
    "        self.assertEqual(2,Calculator.pow(4,0.5))\n",
    "        self.assertEqual(0.01,Calculator.pow(10,-2))\n",
    "if __name__ == '__main__':\n",
    "    unittest.main(argv = ['first-arg-is-ignored'],exit = False)"
   ]
  },
  {
   "cell_type": "code",
   "execution_count": 3,
   "metadata": {},
   "outputs": [],
   "source": [
    "class Calculator: \n",
    "    \n",
    "    def add(x, y):\n",
    "        if isinstance(x, (int, float))== False or isinstance(y, (int, float))== False:\n",
    "            return False\n",
    "        else:\n",
    "            return x + y \n",
    "    def subtract(x, y):\n",
    "        if  isinstance(x, (int, float))== False or isinstance(y, (int, float))== False:\n",
    "            return False\n",
    "        else:\n",
    "            return x - y \n",
    "\n",
    "    def multiply(x, y):\n",
    "        if  isinstance(x, (int, float))== False or isinstance(y, (int, float))== False:\n",
    "            return False\n",
    "        else:\n",
    "            return x * y \n",
    "\n",
    "    def divide(x, y):\n",
    "        if  isinstance(x, (int, float))== False or isinstance(y, (int, float))== False:\n",
    "            return False\n",
    "        elif y== 0:\n",
    "            return False\n",
    "        else:\n",
    "            return x / y\n",
    "\n",
    "    def pow(x, y):\n",
    "        if isinstance(x, (int, float))== False or isinstance(y, (int, float))== False:\n",
    "            return False\n",
    "        else:\n",
    "            return x**y"
   ]
  },
  {
   "cell_type": "code",
   "execution_count": 4,
   "metadata": {},
   "outputs": [
    {
     "name": "stderr",
     "output_type": "stream",
     "text": [
      "...\n",
      "----------------------------------------------------------------------\n",
      "Ran 3 tests in 0.002s\n",
      "\n",
      "OK\n"
     ]
    }
   ],
   "source": [
    "import unittest\n",
    "class TestCalculator(unittest.TestCase):\n",
    "    def test_pow_IsNotNone(self):\n",
    "        self.assertIsNotNone(Calculator.pow(2,3))\n",
    "    def test_pow_Value1(self):\n",
    "        self.assertEqual(8,Calculator.pow(2,3))   \n",
    "    def test_pow_Value_negative_float(self):\n",
    "        self.assertEqual(2,Calculator.pow(4,0.5))\n",
    "        self.assertEqual(0.01,Calculator.pow(10,-2))\n",
    "if __name__ == '__main__':\n",
    "    unittest.main(argv = ['first-arg-is-ignored'],exit = False)"
   ]
  }
 ],
 "metadata": {
  "kernelspec": {
   "display_name": "Python 3",
   "language": "python",
   "name": "python3"
  },
  "language_info": {
   "codemirror_mode": {
    "name": "ipython",
    "version": 3
   },
   "file_extension": ".py",
   "mimetype": "text/x-python",
   "name": "python",
   "nbconvert_exporter": "python",
   "pygments_lexer": "ipython3",
   "version": "3.7.4"
  }
 },
 "nbformat": 4,
 "nbformat_minor": 2
}
