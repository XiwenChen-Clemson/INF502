{
 "cells": [
  {
   "cell_type": "markdown",
   "metadata": {},
   "source": [
    "# Homework 3/4\n",
    "## Wallets function"
   ]
  },
  {
   "cell_type": "markdown",
   "metadata": {},
   "source": [
    "`Wallets` function consists of three part. First, initialize the wallets list `value` and the number of inputted wallets `NumOfWallets = 0`. When the number of inpputed wallets are less than 5, do exception processing. First possible exception is `ValueError`, which may be casued by inputing wrong type data such as string. Anohter error exception is negative input error, which is defined that also activate `ValueError` by `raise`. If anything right, and after the 5 wallets input, we sort the list (`list.sort`) to obtain the fattest wallet and the skinniest wallet.Then, `sum()` is deploy to compute the total and convert in dime unit."
   ]
  },
  {
   "cell_type": "code",
   "execution_count": 2,
   "metadata": {},
   "outputs": [],
   "source": [
    "def wallets():\n",
    "    value = list()\n",
    "    NumOfWallets = 0\n",
    "    \n",
    "    while NumOfWallets<5:\n",
    "        try:\n",
    "            money = input(\"How much money in this wallet?\\n\")\n",
    "            money = float(money)\n",
    "            if money<0:\n",
    "                raise ValueError\n",
    "        except ValueError:\n",
    "            print(\"The value %s is invalied, please enter a positive number\" %money)\n",
    "                \n",
    "        else:\n",
    "            value.append(money)\n",
    "            NumOfWallets =NumOfWallets+1\n",
    "\n",
    "    value.sort()\n",
    "    print(\"The fattest wallet has $%.2f value in it.\\n\" %value[-1])\n",
    "    print(\"The skinniest wallet has $%.2f value in it.\\n\" %value[0])\n",
    "    print(\"All together, these wallets have $%.2f value in them.\\n\" %sum(value))\n",
    "    print(\"All together, the total value of these wallets is worth $%.1f dimes.\\n\" %(sum(value)*10))\n",
    "        \n",
    "            "
   ]
  },
  {
   "cell_type": "markdown",
   "metadata": {},
   "source": [
    "### Here, we try if we have a string input `ss` and negative input `-11`, and see what is the excption processing\n",
    "-We have the output: \n",
    "`The value ss is invalied, please enter a positive number`\n",
    "`The value -11.0 is invalied, please enter a positive number`"
   ]
  },
  {
   "cell_type": "code",
   "execution_count": 3,
   "metadata": {},
   "outputs": [
    {
     "name": "stdout",
     "output_type": "stream",
     "text": [
      "How much money in this wallet?\n",
      "ss\n",
      "The value ss is invalied, please enter a positive number\n",
      "How much money in this wallet?\n",
      "-11\n",
      "The value -11.0 is invalied, please enter a positive number\n",
      "How much money in this wallet?\n",
      "1\n",
      "How much money in this wallet?\n",
      "2\n",
      "How much money in this wallet?\n",
      "3\n",
      "How much money in this wallet?\n",
      "4\n",
      "How much money in this wallet?\n",
      "555\n",
      "The fattest wallet has $555.00 value in it.\n",
      "\n",
      "The skinniest wallet has $1.00 value in it.\n",
      "\n",
      "All together, these wallets have $565.00 value in them.\n",
      "\n",
      "All together, the total value of these wallets is worth $5650.0 dimes.\n",
      "\n"
     ]
    }
   ],
   "source": [
    "wallets()"
   ]
  },
  {
   "cell_type": "markdown",
   "metadata": {},
   "source": [
    "### Here, we input correctly."
   ]
  },
  {
   "cell_type": "code",
   "execution_count": 53,
   "metadata": {
    "scrolled": true
   },
   "outputs": [
    {
     "name": "stdout",
     "output_type": "stream",
     "text": [
      "How much money in this wallet?\n",
      "12.1\n",
      "How much money in this wallet?\n",
      "12.2\n",
      "How much money in this wallet?\n",
      "22.1\n",
      "How much money in this wallet?\n",
      "22.2\n",
      "How much money in this wallet?\n",
      "24.5\n",
      "The fattest wallet has $24.50 value in it.\n",
      "\n",
      "The skinniest wallet has $12.10 value in it.\n",
      "\n",
      "All together, these wallets have $93.10 value in them.\n",
      "\n",
      "All together, the total value of these wallets is worth $931.0 dimes.\n",
      "\n"
     ]
    }
   ],
   "source": [
    "wallets()"
   ]
  }
 ],
 "metadata": {
  "kernelspec": {
   "display_name": "Python 3",
   "language": "python",
   "name": "python3"
  },
  "language_info": {
   "codemirror_mode": {
    "name": "ipython",
    "version": 3
   },
   "file_extension": ".py",
   "mimetype": "text/x-python",
   "name": "python",
   "nbconvert_exporter": "python",
   "pygments_lexer": "ipython3",
   "version": "3.7.4"
  }
 },
 "nbformat": 4,
 "nbformat_minor": 2
}
