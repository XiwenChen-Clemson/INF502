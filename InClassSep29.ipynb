{
 "cells": [
  {
   "cell_type": "markdown",
   "metadata": {},
   "source": [
    "# In Class Assignment\n",
    "## Members: Ai Zhang, Yifei Zhang, Xiwen Chen"
   ]
  },
  {
   "cell_type": "markdown",
   "metadata": {},
   "source": [
    "## Source codes:"
   ]
  },
  {
   "cell_type": "code",
   "execution_count": 1,
   "metadata": {},
   "outputs": [],
   "source": [
    "class Movie:\n",
    "    def __init__(self,Title, Genres, Year, MyReview, Actors, Counter, BorrowedFlag, BorrowerName):\n",
    "        \n",
    "        self.Title  = Title\n",
    "        self.Genres = Genres\n",
    "        self.Year = Year\n",
    "        self.MyReview = MyReview        \n",
    "        self.Actors = Actors\n",
    "        self.Counter = Counter\n",
    "        self.BorrowedFlag = BorrowedFlag\n",
    "        if self.BorrowedFlag == False:\n",
    "            self.BorrowerName = ''\n",
    "        else:\n",
    "            self.BorrowerName = BorrowerName\n",
    "            \n",
    "    def WatchTheMovie(self):\n",
    "        self.Counter  = self.Counter + 1\n",
    "    def WriteAReview(self,MyReview):\n",
    "        self.MyReview = MyReview\n",
    "    def SetGenres(self,Genres):\n",
    "        self.Genres = Genres\n",
    "    def SetYear(self,Year):\n",
    "        self.Year = Year\n",
    "    def SetBorrowedFlag(self,BorrowedFlag):\n",
    "        self.BorrowedFlag = BorrowedFlag\n",
    "    def SetActors(self,Actors):\n",
    "        self.Actors = Actors\n",
    "    def BorrowTheMovie(self,BorrowerName):\n",
    "        self.BorrowedFlag = True\n",
    "        self.BorrowerName = BorrowerName\n",
    "    def ReturnTheMovie(self):\n",
    "        self.BorrowedFlag = False\n",
    "        self.BorrowerName = ''\n",
    "        \n",
    "    def __str__(self):\n",
    "        GenresList = ''\n",
    "        for Genre in self.Genres:\n",
    "            GenresList = GenresList+Genre+\",\"\n",
    "        \n",
    "        \n",
    "        ActorsList = '   '\n",
    "        for Actor in self.Actors:\n",
    "            ActorsList = ActorsList+Actor.Name+\"\\n\"+\"   \"\n",
    "            \n",
    "        return \"Movie: \" + self.Title + \"    \" + \"Year: \" + self.Year + \"\\n\" + \\\n",
    "            \"Genre: \" + GenresList + \"\\n\" + \"Counter:\"+str(self.Counter)+\"\\n\"+\"Borrower:\"+self.BorrowerName+\"\\n\"+\\\n",
    "            \"list of Actors: \\n\" +ActorsList \n",
    "            \n",
    "\n",
    "    \n",
    "    \n",
    "        \n",
    "        \n",
    "        "
   ]
  },
  {
   "cell_type": "code",
   "execution_count": 17,
   "metadata": {},
   "outputs": [],
   "source": [
    "class Actor():\n",
    "    def __init__(self, Name, Date_of_birth, Nationality):\n",
    "        self.Name = Name\n",
    "        self.Date_of_birth = Date_of_birth\n",
    "        self.Nationality = Nationality\n",
    "        \n",
    "    def NewName(self, Name):\n",
    "        self.Name =Name\n",
    "        \n",
    "    def NewDataOfBirth(self, Date_of_birth):\n",
    "        self.Date_of_birth = Date_of_birth\n",
    "        \n",
    "    def NewNationality(self,Nationality):\n",
    "        self.Nationality = Nationality\n",
    "        \n",
    "    def ListParticipatedMovie(self, Movies):\n",
    "        MovieList = list()\n",
    "        for Movie in Movies:\n",
    "            for Member in Movie.Actors:\n",
    "                if self.Name == Member.Name:\n",
    "                    MovieList.append(Movie.Title)\n",
    "                    \n",
    "        if MovieList == []:\n",
    "            print(\"The actor %s didn't participante any movie from current movie collection\" %self.Name)\n",
    "        else:\n",
    "            print(\"The actor %s participated:\"%self.Name+str(MovieList))\n",
    "            \n",
    "    def __str__(self):\n",
    "         \n",
    "        \n",
    "        return \"name:\" + self.Name +\"\\n\"+ \"date_of_birth:\" + self.Date_of_birth+\"\\n\"+ \"nationality:\" + self.Nationality+\"\\n\"\n",
    "                    \n",
    "    \n"
   ]
  },
  {
   "cell_type": "markdown",
   "metadata": {},
   "source": [
    "## Test \n",
    "- Initinization"
   ]
  },
  {
   "cell_type": "code",
   "execution_count": 18,
   "metadata": {},
   "outputs": [],
   "source": [
    "Actor_1 = Actor(\"Marlon Brando\", \"April 3, 1924\", \"US\")\n",
    "Actor_2 = Actor(\"Al Pacino\", \"April 25, 1940\", \"US\")\n",
    "Actor_3 = Actor(\"Robert Duvall\", \"January 5, 1931\", \"US\")\n",
    "Actor_4 = Actor(\"Diane Hall Keaton \",\"January 5, 1946\",\"US\")\n",
    "\n",
    "Actors_1 = [Actor_1,Actor_2,Actor_3] ## The cast of The godfather\n",
    "Actors_2 = [Actor_2,Actor_3,Actor_4] ## The cast of The godfather Part II\n",
    "#Actors_1.append\n",
    "\n",
    "Movie_1 = Movie(\"The Godfather\", [\"Crime\", \"Drama\"],\"1972\",\"A bible to men\", Actors_1,0,False,'')\n",
    "Movie_2 = Movie(\"The Godfather Part II\", [\"Crime\", \"Drama\"],\"1974\",\"One of the greatest film\", Actors_2,0,False,'')\n",
    "Movies = [Movie_1,Movie_2]"
   ]
  },
  {
   "cell_type": "markdown",
   "metadata": {},
   "source": [
    "- Test functions of `Actor`"
   ]
  },
  {
   "cell_type": "code",
   "execution_count": 19,
   "metadata": {},
   "outputs": [
    {
     "name": "stdout",
     "output_type": "stream",
     "text": [
      "name:Marlon Brando\n",
      "date_of_birth:April 3, 1924\n",
      "nationality:US\n",
      "\n",
      "name:Don Vito Corleone\n",
      "date_of_birth:April 3, 1924\n",
      "nationality:US\n",
      "\n",
      "The actor Al Pacino participated:['The Godfather', 'The Godfather Part II']\n"
     ]
    }
   ],
   "source": [
    "print(Actor_1)\n",
    "# Set Function\n",
    "Actor_1.NewName(\"Don Vito Corleone\")\n",
    "Actor_1.NewDataOfBirth=\"April 20, 1900\"  \n",
    "Actor_1.NewNationality=\"Italy\"\n",
    "\n",
    "print(Actor_1)\n",
    "\n",
    "#Movies-List function\n",
    "Actor_2.ListParticipatedMovie(Movies)\n",
    "\n",
    "#Reset actor\n",
    "Actor_1 = Actor(\"Marlon Brando\", \"April 3, 1924\", \"US\")"
   ]
  },
  {
   "cell_type": "markdown",
   "metadata": {},
   "source": [
    "- Test functions of `Moive`"
   ]
  },
  {
   "cell_type": "code",
   "execution_count": 20,
   "metadata": {},
   "outputs": [
    {
     "name": "stdout",
     "output_type": "stream",
     "text": [
      "Movie: The Godfather    Year: 1972\n",
      "Genre: Crime,Drama,\n",
      "Counter:0\n",
      "Borrower:\n",
      "list of Actors: \n",
      "   Don Vito Corleone\n",
      "   Al Pacino\n",
      "   Robert Duvall\n",
      "   \n",
      "Movie: The Godfather    Year: 1972\n",
      "Genre: Crime,Drama,\n",
      "Counter:1\n",
      "Borrower:\n",
      "list of Actors: \n",
      "   Don Vito Corleone\n",
      "   Al Pacino\n",
      "   Robert Duvall\n",
      "   \n",
      "Movie: The Godfather    Year: 1972\n",
      "Genre: Crime,Drama,\n",
      "Counter:1\n",
      "Borrower:Xiwen\n",
      "list of Actors: \n",
      "   Don Vito Corleone\n",
      "   Al Pacino\n",
      "   Robert Duvall\n",
      "   \n",
      "Movie: The Godfather    Year: 1972\n",
      "Genre: Crime,Drama,\n",
      "Counter:1\n",
      "Borrower:\n",
      "list of Actors: \n",
      "   Don Vito Corleone\n",
      "   Al Pacino\n",
      "   Robert Duvall\n",
      "   \n"
     ]
    }
   ],
   "source": [
    "print(Movie_1)\n",
    "Movie_1.WatchTheMovie()\n",
    "print(Movie_1)\n",
    "Movie_1.BorrowTheMovie(\"Xiwen\")\n",
    "print(Movie_1)\n",
    "Movie_1.ReturnTheMovie()\n",
    "print(Movie_1)"
   ]
  },
  {
   "cell_type": "code",
   "execution_count": null,
   "metadata": {},
   "outputs": [],
   "source": []
  }
 ],
 "metadata": {
  "kernelspec": {
   "display_name": "Python 3",
   "language": "python",
   "name": "python3"
  },
  "language_info": {
   "codemirror_mode": {
    "name": "ipython",
    "version": 3
   },
   "file_extension": ".py",
   "mimetype": "text/x-python",
   "name": "python",
   "nbconvert_exporter": "python",
   "pygments_lexer": "ipython3",
   "version": "3.7.4"
  }
 },
 "nbformat": 4,
 "nbformat_minor": 2
}
